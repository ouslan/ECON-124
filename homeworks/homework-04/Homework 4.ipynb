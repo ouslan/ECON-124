{
 "cells": [
  {
   "cell_type": "markdown",
   "id": "7cc585df",
   "metadata": {},
   "source": [
    "**Author**:Alejandro M.Ouslan"
   ]
  },
  {
   "cell_type": "code",
   "execution_count": null,
   "id": "35666afd",
   "metadata": {},
   "outputs": [],
   "source": [
    "import pandas as pd\n",
    "import matplotlib.pyplot as plt\n",
    "import statsmodels.formula.api as smf\n",
    "import statsmodels.stats.api as sms\n",
    "from statsmodels.tsa.arima.model import ARIMA\n",
    "import statsmodels.api as sm\n",
    "from statsmodels.tsa.ar_model import AutoReg\n",
    "import numpy as np\n",
    "from statsmodels.stats.diagnostic import acorr_ljungbox\n",
    "from statsmodels.graphics.tsaplots import plot_acf, plot_pacf"
   ]
  },
  {
   "cell_type": "code",
   "execution_count": null,
   "id": "2e147cbe",
   "metadata": {},
   "outputs": [],
   "source": [
    "df = pd.read_excel(\"data/MONEYDEM-1.xls\")\n",
    "df['year'] = df['DATE'].astype(int)\n",
    "df['quarter'] = ((df['DATE'] - df['year']) * 10).round().astype(int)\n",
    "df['date'] = df['year'].astype(str) + 'Q' + df['quarter'].astype(str)\n",
    "df['date'] = pd.PeriodIndex(df['date'], freq='Q')\n",
    "df.set_index('date', inplace=True)\n",
    "df"
   ]
  },
  {
   "cell_type": "markdown",
   "id": "ba72d7b8",
   "metadata": {},
   "source": [
    "# Problems\n",
    "\n",
    "## Problem a"
   ]
  },
  {
   "cell_type": "code",
   "execution_count": null,
   "id": "0a2f1ce1",
   "metadata": {},
   "outputs": [],
   "source": [
    "#1a \n",
    "plt.figure(figsize=(8, 5))\n",
    "plt.plot(df.index.to_timestamp(), df['TB3mo'], marker='o')\n",
    "plt.title('Quarterly Data')\n",
    "plt.xlabel('Date')\n",
    "plt.ylabel('TB3mo')\n",
    "plt.grid(True)\n",
    "plt.tight_layout()\n",
    "plt.show()"
   ]
  },
  {
   "cell_type": "code",
   "execution_count": null,
   "id": "21617f3e",
   "metadata": {},
   "outputs": [],
   "source": [
    "plt.figure(figsize=(8, 5))\n",
    "plt.plot(df.index.to_timestamp(), df['TB1yr'], marker='o')\n",
    "plt.title('Quarterly Data')\n",
    "plt.xlabel('Date')\n",
    "plt.ylabel('TB1yr')\n",
    "plt.grid(True)\n",
    "plt.tight_layout()\n",
    "plt.show()"
   ]
  },
  {
   "cell_type": "markdown",
   "id": "72a29a3a",
   "metadata": {},
   "source": [
    "- No, they appear to have changing mean and variance given that in 1980 had a vilont spike \n",
    "\n",
    "## Problem b"
   ]
  },
  {
   "cell_type": "code",
   "execution_count": null,
   "id": "c6aef677",
   "metadata": {},
   "outputs": [],
   "source": [
    "plt.figure(figsize=(8, 5))\n",
    "plt.plot(df.index.to_timestamp(), df['TB1yr'], marker='o')\n",
    "plt.plot(df.index.to_timestamp(), df['TB3mo'], marker='o')\n",
    "plt.title('Quarterly Data')\n",
    "plt.xlabel('Date')\n",
    "plt.grid(True)\n",
    "plt.tight_layout()\n",
    "plt.show()"
   ]
  },
  {
   "cell_type": "markdown",
   "id": "ddef99d9",
   "metadata": {},
   "source": [
    "- They apear to be practicaly identical the seam to follow the same trend\n",
    "\n",
    "## Problem c"
   ]
  },
  {
   "cell_type": "code",
   "execution_count": null,
   "id": "ba0a5f6d",
   "metadata": {},
   "outputs": [],
   "source": [
    "model = smf.ols(\"TB1yr ~ TB3mo\", data=df).fit()\n",
    "print(model.summary())"
   ]
  },
  {
   "cell_type": "markdown",
   "id": "104a921f",
   "metadata": {},
   "source": [
    "## Problem d\n",
    "- A 1 percentage point increase in the 3-month Treasury rate (short-term) is associated with a 0.9167 percentage point increase in the 1-year Treasury rate (long-term), on average, holding other factors constant.\n",
    "\n",
    "## Problem e "
   ]
  },
  {
   "cell_type": "code",
   "execution_count": null,
   "id": "be8f87ad",
   "metadata": {},
   "outputs": [],
   "source": [
    "t_test_result = model.t_test('TB3mo = 1')\n",
    "print(t_test_result)"
   ]
  },
  {
   "cell_type": "markdown",
   "id": "64f6cd7a",
   "metadata": {},
   "source": [
    "- since p-value is 0.000 there is strong but less-than-perfect pass-through from short- to long-term rates.\n",
    "\n",
    "## Problem f"
   ]
  },
  {
   "cell_type": "code",
   "execution_count": null,
   "id": "78631a3e",
   "metadata": {},
   "outputs": [],
   "source": [
    "residuals = model.resid\n",
    "\n",
    "plt.figure(figsize=(8, 5))\n",
    "plt.scatter(df['TB3mo'], residuals, alpha=0.7)\n",
    "plt.axhline(0, color='red', linestyle='--')\n",
    "plt.xlabel('TB3mo (3-month Treasury rate)')\n",
    "plt.ylabel('Residuals')\n",
    "plt.title('Residuals vs TB3mo')\n",
    "plt.grid(True)\n",
    "plt.show()"
   ]
  },
  {
   "cell_type": "markdown",
   "id": "642f5eec",
   "metadata": {},
   "source": [
    "- No there does not seam to be a pattern \n",
    "\n",
    "## Problem g"
   ]
  },
  {
   "cell_type": "code",
   "execution_count": null,
   "id": "45186272",
   "metadata": {},
   "outputs": [],
   "source": [
    "residuals = model.resid\n",
    "exog = model.model.exog \n",
    "\n",
    "white_test = sms.het_white(residuals, exog)\n",
    "\n",
    "lm_stat, lm_pvalue, f_stat, f_pvalue = white_test\n",
    "\n",
    "print(f\"White test LM statistic: {lm_stat:.4f}\")\n",
    "print(f\"White test LM p-value: {lm_pvalue:.4f}\")\n",
    "print(f\"White test F statistic: {f_stat:.4f}\")\n",
    "print(f\"White test F p-value: {f_pvalue:.4f}\")"
   ]
  },
  {
   "cell_type": "markdown",
   "id": "a87f1d3a",
   "metadata": {},
   "source": [
    "- given that the p-value is 0.0000 there is evidence of heteroskedasticity\n",
    "\n",
    "## Problem h"
   ]
  },
  {
   "cell_type": "code",
   "execution_count": null,
   "id": "088ebdd8",
   "metadata": {},
   "outputs": [],
   "source": [
    "model_robust = smf.ols(\"TB1yr ~ TB3mo\", data=df).fit(cov_type='HC0')\n",
    "print(model_robust.summary())"
   ]
  },
  {
   "cell_type": "markdown",
   "id": "3a6ae841",
   "metadata": {},
   "source": [
    "- The coefecients did not change, however the std err did increase for both the intercept and the coeficient When heteroskedasticity is present, regular SEs underestimate the true variability of the coefficients, so the robust SEs tend to be larger and more reliable.\n",
    "\n",
    "## Problem j\n"
   ]
  },
  {
   "cell_type": "code",
   "execution_count": null,
   "id": "a1086e25",
   "metadata": {},
   "outputs": [],
   "source": [
    "df['D'] = (df['TB3mo'] > 10.00).astype(int)\n",
    "model_with_dummy = smf.ols(\"TB1yr ~ TB3mo + D\", data=df).fit()\n",
    "\n",
    "print(model_with_dummy.summary())"
   ]
  },
  {
   "cell_type": "markdown",
   "id": "21fd553b",
   "metadata": {},
   "source": [
    "## Problem k\n",
    "- given that the p-value of delta is 0.004 the dummy is revelat. \n",
    "\n",
    "## Problem l \n",
    "-  The coeficien increased but also did the standard error \n",
    "\n",
    "# Problem 2\n",
    "\n",
    "## Problem A"
   ]
  },
  {
   "cell_type": "code",
   "execution_count": null,
   "id": "92ede747",
   "metadata": {},
   "outputs": [],
   "source": [
    "df = pd.read_excel(\"data/SIM_2-1.xls\")\n",
    "plt.figure(figsize=(8, 5))\n",
    "plt.plot(df[\"OBS\"], df['Y1'], marker='o')\n",
    "plt.title('Quarterly Data')\n",
    "plt.xlabel('Date')\n",
    "plt.ylabel('TB3mo')\n",
    "plt.grid(True)\n",
    "plt.tight_layout()\n",
    "plt.show()"
   ]
  },
  {
   "cell_type": "markdown",
   "id": "7824367d",
   "metadata": {},
   "source": [
    "- given that the series has not broke out dwon or up and it seems to hover aroun 1 we could say that it is stationary \n",
    "\n",
    "## Problem B"
   ]
  },
  {
   "cell_type": "code",
   "execution_count": null,
   "id": "0a80f678",
   "metadata": {},
   "outputs": [],
   "source": [
    "fig = plot_acf(df['Y1'], lags=10)\n",
    "plt.show()\n",
    "plot_pacf(df['Y1'], lags=15)\n",
    "plt.show()"
   ]
  },
  {
   "cell_type": "markdown",
   "id": "380c6dea",
   "metadata": {},
   "source": [
    "- given that the series has not broke out dwon or up and it seems to hover aroun 1 we could say that it is stationary \n",
    "\n",
    "## Problem C"
   ]
  },
  {
   "cell_type": "code",
   "execution_count": null,
   "id": "b23b95c8",
   "metadata": {},
   "outputs": [],
   "source": [
    "# AR(1)\n",
    "res = AutoReg(df['Y1'], lags =1).fit()\n",
    "print(res.summary())\n",
    "y_true = res.model.endog[res.model._hold_back:]  \n",
    "y_pred = res.fittedvalues\n",
    "\n",
    "\n",
    "ssr = np.sum((y_true - y_pred) ** 2)\n",
    "\n",
    "tss = np.sum((y_true - np.mean(y_true)) ** 2)\n",
    "\n",
    "n = len(y_true)\n",
    "k = res.df_model + 1  \n",
    "\n",
    "r2 = 1 - ssr / tss\n",
    "r2_adj = 1 - (ssr / (n - k)) / (tss / (n - 1))\n",
    "\n",
    "print(\"R^2:\", round(r2, 4))\n",
    "print(\"Adjusted R^2:\", round(r2_adj, 4))"
   ]
  },
  {
   "cell_type": "code",
   "execution_count": null,
   "id": "3f5cbf7b",
   "metadata": {},
   "outputs": [],
   "source": [
    "# AR(2)\n",
    "res = AutoReg(df['Y1'], lags=2).fit()\n",
    "print(res.summary())\n",
    "y_true = res.model.endog[res.model._hold_back:] \n",
    "y_pred = res.fittedvalues\n",
    "\n",
    "ssr = np.sum((y_true - y_pred) ** 2)\n",
    "\n",
    "tss = np.sum((y_true - np.mean(y_true)) ** 2)\n",
    "\n",
    "n = len(y_true)\n",
    "k = res.df_model + 1 \n",
    "\n",
    "r2 = 1 - ssr / tss\n",
    "r2_adj = 1 - (ssr / (n - k)) / (tss / (n - 1))\n",
    "\n",
    "print(\"R^2:\", round(r2, 4))\n",
    "print(\"Adjusted R^2:\", round(r2_adj, 4))"
   ]
  },
  {
   "cell_type": "code",
   "execution_count": null,
   "id": "39408ada",
   "metadata": {},
   "outputs": [],
   "source": [
    "# ARMA(1,1)\n",
    "arma_mod = ARIMA(df['Y1'], order=(1, 1, 0)).fit()\n",
    "print(arma_mod.summary())\n",
    "\n",
    "y_true = df['Y1'].diff().values\n",
    "\n",
    "\n",
    "y_pred = arma_mod.fittedvalues\n",
    "\n",
    "ssr = np.sum((y_true - y_pred) ** 2)\n",
    "tss = np.sum((y_true - np.mean(y_true)) ** 2)\n",
    "\n",
    "n = len(y_true)\n",
    "k = arma_mod.df_model \n",
    "\n",
    "r2 = 1 - ssr / tss\n",
    "r2_adj = 1 - (ssr / (n - k)) / (tss / (n - 1))\n",
    "\n",
    "print(\"R^2:\", round(r2, 4))\n",
    "print(\"Adjusted R^2:\", round(r2_adj, 4))\n",
    "\n",
    "print(\"AIC:\", arma_mod.aic)\n",
    "print(\"BIC:\", arma_mod.bic)"
   ]
  },
  {
   "cell_type": "code",
   "execution_count": null,
   "id": "2d54c9e7",
   "metadata": {},
   "outputs": [],
   "source": [
    "# ARMA(1,4)\n",
    "arma_mod = ARIMA(df['Y1'], order=(1, 4, 0)).fit()\n",
    "print(arma_mod.summary())\n",
    "y_true = df['Y1'].diff().values\n",
    "\n",
    "y_pred = arma_mod.fittedvalues\n",
    "ssr = np.sum((y_true - y_pred) ** 2)\n",
    "tss = np.sum((y_true - np.mean(y_true)) ** 2)\n",
    "\n",
    "n = len(y_true)\n",
    "k = arma_mod.df_model  \n",
    "\n",
    "r2 = 1 - ssr / tss\n",
    "r2_adj = 1 - (ssr / (n - k)) / (tss / (n - 1))\n",
    "\n",
    "print(\"R^2:\", round(r2, 4))\n",
    "print(\"Adjusted R^2:\", round(r2_adj, 4))\n",
    "\n",
    "print(\"AIC:\", arma_mod.aic)\n",
    "print(\"BIC:\", arma_mod.bic)"
   ]
  },
  {
   "cell_type": "code",
   "execution_count": null,
   "id": "07455a8e",
   "metadata": {},
   "outputs": [],
   "source": [
    "# ARMA(2,1)\n",
    "arma_mod = ARIMA(df['Y1'], order=(2, 1, 0)).fit()\n",
    "print(arma_mod.summary())\n",
    "y_true = df['Y1'].diff().values\n",
    "\n",
    "y_pred = arma_mod.fittedvalues\n",
    "ssr = np.sum((y_true - y_pred) ** 2)\n",
    "tss = np.sum((y_true - np.mean(y_true)) ** 2)\n",
    "\n",
    "n = len(y_true)\n",
    "k = arma_mod.df_model  \n",
    "\n",
    "r2 = 1 - ssr / tss\n",
    "r2_adj = 1 - (ssr / (n - k)) / (tss / (n - 1))\n",
    "\n",
    "print(\"R^2:\", round(r2, 4))\n",
    "print(\"Adjusted R^2:\", round(r2_adj, 4))\n",
    "\n",
    "print(\"AIC:\", arma_mod.aic)\n",
    "print(\"BIC:\", arma_mod.bic)"
   ]
  },
  {
   "cell_type": "markdown",
   "id": "f7299718",
   "metadata": {},
   "source": [
    "## Problem D"
   ]
  },
  {
   "cell_type": "code",
   "execution_count": null,
   "id": "704c39d5",
   "metadata": {},
   "outputs": [],
   "source": [
    "#AR(2)\n",
    "res = AutoReg(df['Y1'], lags=2, trend=\"n\").fit()\n",
    "print(res.summary())\n",
    "y_true = df['Y1'].diff().values\n",
    "\n",
    "y_pred = arma_mod.fittedvalues\n",
    "ssr = np.sum((y_true - y_pred) ** 2)\n",
    "tss = np.sum((y_true - np.mean(y_true)) ** 2)\n",
    "\n",
    "n = len(y_true)\n",
    "k = arma_mod.df_model  \n",
    "r2 = 1 - ssr / tss\n",
    "r2_adj = 1 - (ssr / (n - k)) / (tss / (n - 1))\n",
    "\n",
    "print(\"R^2:\", round(r2, 4))\n",
    "print(\"Adjusted R^2:\", round(r2_adj, 4))\n",
    "\n",
    "print(\"AIC:\", arma_mod.aic)\n",
    "print(\"BIC:\", arma_mod.bic)"
   ]
  },
  {
   "cell_type": "code",
   "execution_count": null,
   "id": "b640e877",
   "metadata": {},
   "outputs": [],
   "source": [
    "# ARIMA(1,1)\n",
    "arma_mod = ARIMA(df['Y1'], order=(1, 1, 0), trend=\"n\").fit()\n",
    "print(arma_mod.summary())\n",
    "y_true = df['Y1'].diff().values\n",
    "\n",
    "y_pred = arma_mod.fittedvalues\n",
    "\n",
    "ssr = np.sum((y_true - y_pred) ** 2)\n",
    "tss = np.sum((y_true - np.mean(y_true)) ** 2)\n",
    "\n",
    "n = len(y_true)\n",
    "k = arma_mod.df_model  \n",
    "\n",
    "r2 = 1 - ssr / tss\n",
    "r2_adj = 1 - (ssr / (n - k)) / (tss / (n - 1))\n",
    "\n",
    "print(\"R^2:\", round(r2, 4))\n",
    "print(\"Adjusted R^2:\", round(r2_adj, 4))\n",
    "\n",
    "print(\"AIC:\", arma_mod.aic)\n",
    "print(\"BIC:\", arma_mod.bic)"
   ]
  },
  {
   "cell_type": "markdown",
   "id": "e4b89565",
   "metadata": {},
   "source": [
    "## Problem E\n",
    "- for the part c looking at the AIC the best model is the AR(2) given that it has the smallest AIC fro the part ed the best is sitll AR(2) given that it has the smallest AIC\n",
    "\n",
    "## Problem F\n",
    "- yes because looking at the AIC it shouldgest that the best model is AR(2) given that the simulated model was created with AR(1) one would expect AR(1) would be the best model\n",
    "\n",
    "## Problem G"
   ]
  },
  {
   "cell_type": "code",
   "execution_count": null,
   "id": "18af58be",
   "metadata": {},
   "outputs": [],
   "source": [
    "# AR(2)\n",
    "model_ar2 = AutoReg(df['Y1'], lags=2, old_names=False)\n",
    "res_ar2 = model_ar2.fit()\n",
    "\n",
    "residuals = res_ar2.resid\n",
    "\n",
    "fig, ax = plt.subplots(2, 1, figsize=(10, 6))\n",
    "\n",
    "plot_acf(residuals, ax=ax[0], lags=20)\n",
    "ax[0].set_title('ACF of AR(2) Residuals')\n",
    "\n",
    "plot_pacf(residuals, ax=ax[1], lags=20, method='ywm')\n",
    "ax[1].set_title('PACF of AR(2) Residuals')\n",
    "\n",
    "plt.tight_layout()\n",
    "plt.show()"
   ]
  },
  {
   "cell_type": "markdown",
   "id": "aa3763b7",
   "metadata": {},
   "source": [
    "- yes they look like random noice"
   ]
  },
  {
   "cell_type": "markdown",
   "id": "b28306e0",
   "metadata": {},
   "source": [
    "# Problem \n",
    "\n",
    "## Problem A"
   ]
  },
  {
   "cell_type": "code",
   "execution_count": null,
   "id": "9d9716b2",
   "metadata": {},
   "outputs": [],
   "source": [
    "df = pd.read_excel(\"data/QUARTERLY-1.xls\")\n",
    "df['date'] = pd.PeriodIndex(df['Date'], freq='Q')\n",
    "df.set_index('date', inplace=True)\n",
    "df = df[[\"CPINSA\",\"Date\"]]\n",
    "df"
   ]
  },
  {
   "cell_type": "code",
   "execution_count": null,
   "id": "013835a8",
   "metadata": {},
   "outputs": [],
   "source": [
    "plt.figure(figsize=(8, 5))\n",
    "plt.plot(df.index.to_timestamp(), df['CPINSA'], marker='o')\n",
    "plt.title('Quarterly Data')\n",
    "plt.xlabel('Date')\n",
    "plt.ylabel('TB3mo')\n",
    "plt.grid(True)\n",
    "plt.tight_layout()\n",
    "plt.show()"
   ]
  },
  {
   "cell_type": "markdown",
   "id": "d5337009",
   "metadata": {},
   "source": [
    "- does not look staionary \n",
    "\n",
    "## Problem B"
   ]
  },
  {
   "cell_type": "code",
   "execution_count": null,
   "id": "ece13acb",
   "metadata": {},
   "outputs": [],
   "source": [
    "fig = plot_acf(df['CPINSA'], lags=25)\n",
    "plt.show()\n",
    "plot_pacf(df['CPINSA'], lags=25)\n",
    "plt.show()"
   ]
  },
  {
   "cell_type": "markdown",
   "id": "83a37767",
   "metadata": {},
   "source": [
    "## Problem C"
   ]
  },
  {
   "cell_type": "code",
   "execution_count": null,
   "id": "68ae6e52",
   "metadata": {},
   "outputs": [],
   "source": [
    "df[\"log_CPINSA\"] = np.log((df[\"CPINSA\"] / df[\"CPINSA\"].shift(1)))\n",
    "plt.figure(figsize=(8, 5))\n",
    "plt.plot(df.index.to_timestamp(), df['log_CPINSA'], marker='o')\n",
    "plt.title('Quarterly Data')\n",
    "plt.xlabel('Date')\n",
    "plt.ylabel('TB3mo')\n",
    "plt.grid(True)\n",
    "plt.tight_layout()\n",
    "plt.show()"
   ]
  },
  {
   "cell_type": "markdown",
   "id": "22ce73c1",
   "metadata": {},
   "source": [
    "- There was a dip but it seems to be stationary given that there is no strong trend \n",
    "\n",
    "## Problem D"
   ]
  },
  {
   "cell_type": "code",
   "execution_count": null,
   "id": "5c7decf9",
   "metadata": {},
   "outputs": [],
   "source": [
    "fig = plot_acf(df['log_CPINSA'].dropna(), lags=25)\n",
    "plt.show()\n",
    "plot_pacf(df['log_CPINSA'].dropna(), lags=25)\n",
    "plt.show()"
   ]
  },
  {
   "cell_type": "markdown",
   "id": "12fe8898",
   "metadata": {},
   "source": [
    "## Problem E\n"
   ]
  },
  {
   "cell_type": "code",
   "execution_count": null,
   "id": "5d29884d",
   "metadata": {},
   "outputs": [],
   "source": [
    "df[\"log_CPINSA4\"] = np.log((df[\"CPINSA\"] / df[\"CPINSA\"].shift(4)))\n",
    "plt.figure(figsize=(8, 5))\n",
    "plt.plot(df.index.to_timestamp(), df['log_CPINSA4'], marker='o')\n",
    "plt.title('Quarterly Data')\n",
    "plt.xlabel('Date')\n",
    "plt.ylabel('TB3mo')\n",
    "plt.grid(True)\n",
    "plt.tight_layout()\n",
    "plt.show()"
   ]
  },
  {
   "cell_type": "markdown",
   "id": "99cc9241",
   "metadata": {},
   "source": [
    "- there was a dip but it seems to be stationary given that there is no strong trend \n",
    "  \n",
    "## Problem F "
   ]
  },
  {
   "cell_type": "code",
   "execution_count": null,
   "id": "59c24953",
   "metadata": {},
   "outputs": [],
   "source": [
    "fig = plot_acf(df['log_CPINSA4'].dropna(), lags=25)\n",
    "plt.show()\n",
    "fig = plot_pacf(df['log_CPINSA4'].dropna(), lags=25)\n",
    "plt.show()"
   ]
  },
  {
   "cell_type": "markdown",
   "id": "f386146c",
   "metadata": {},
   "source": [
    "## Problem G "
   ]
  },
  {
   "cell_type": "code",
   "execution_count": null,
   "id": "280dc5a7",
   "metadata": {},
   "outputs": [],
   "source": [
    "res = AutoReg(df['log_CPINSA4'].dropna(), lags =5).fit()\n",
    "print(res.summary())\n"
   ]
  },
  {
   "cell_type": "code",
   "execution_count": null,
   "id": "2aac1efb",
   "metadata": {},
   "outputs": [],
   "source": [
    "y_true = res.model.endog[res.model._hold_back:]  \n",
    "y_pred = res.fittedvalues\n",
    "\n",
    "\n",
    "ssr = np.sum((y_true - y_pred) ** 2)\n",
    "\n",
    "tss = np.sum((y_true - np.mean(y_true)) ** 2)\n",
    "\n",
    "n = len(y_true)\n",
    "k = res.df_model + 1  \n",
    "\n",
    "r2 = 1 - ssr / tss\n",
    "r2_adj = 1 - (ssr / (n - k)) / (tss / (n - 1))\n",
    "\n",
    "print(\"R^2:\", round(r2, 4))\n",
    "print(\"Adjusted R^2:\", round(r2_adj, 4))"
   ]
  },
  {
   "cell_type": "code",
   "execution_count": null,
   "id": "0ad18750",
   "metadata": {},
   "outputs": [],
   "source": [
    "arma_mod = ARIMA(df['log_CPINSA4'].dropna(), order=(0, 0, 10)).fit()\n",
    "print(arma_mod.summary())"
   ]
  },
  {
   "cell_type": "code",
   "execution_count": null,
   "id": "f003cfe5",
   "metadata": {},
   "outputs": [],
   "source": [
    "arma_mod = ARIMA(df['log_CPINSA4'].dropna(), order=(5, 0, 10)).fit()\n",
    "print(arma_mod.summary())"
   ]
  },
  {
   "cell_type": "code",
   "execution_count": null,
   "id": "2b15395c",
   "metadata": {},
   "outputs": [],
   "source": [
    "arma_mod = ARIMA(df['log_CPINSA4'].dropna(), order=(6, 0, 7)).fit()\n",
    "print(arma_mod.summary())"
   ]
  },
  {
   "cell_type": "markdown",
   "id": "d84c0ad7",
   "metadata": {},
   "source": [
    "## Problem H\n",
    "-  looking at the AIC the MA(10) seems to prefrom the best\n",
    "\n",
    "## Problem I "
   ]
  },
  {
   "cell_type": "code",
   "execution_count": null,
   "id": "f14ca526",
   "metadata": {},
   "outputs": [],
   "source": [
    "df[\"quarter\"] = df.index.quarter\n",
    "quarter_dummies = pd.get_dummies(df[\"quarter\"], prefix=\"Q\", drop_first=True).astype(int)\n",
    "df = pd.concat([df, quarter_dummies], axis=1)\n",
    "X = df[[col for col in df.columns if col.startswith(\"Q_\")]]\n",
    "X = sm.add_constant(X)\n",
    "y = df[\"log_CPINSA4\"]\n",
    "\n",
    "model = sm.OLS(y, X, missing='drop').fit()\n",
    "print(model.summary())\n"
   ]
  },
  {
   "cell_type": "markdown",
   "id": "6b735ffe",
   "metadata": {},
   "source": [
    "## Problem J"
   ]
  },
  {
   "cell_type": "code",
   "execution_count": null,
   "id": "b895c7aa",
   "metadata": {},
   "outputs": [],
   "source": [
    "df[\"residuals\"] = model.resid\n",
    "plt.figure(figsize=(10, 5))\n",
    "plt.plot(df.index.to_timestamp(), df[\"residuals\"], marker='o', linestyle='-')\n",
    "plt.axhline(0, color='red', linestyle='--')\n",
    "plt.title(\"Regression Residuals: log(CPINSA_t / CPINSA_{t-1}) ~ Quarterly Dummies\")\n",
    "plt.xlabel(\"Date\")\n",
    "plt.ylabel(\"Residual\")\n",
    "plt.grid(True)\n",
    "plt.tight_layout()\n",
    "plt.show()"
   ]
  },
  {
   "cell_type": "markdown",
   "id": "400ce34d",
   "metadata": {},
   "source": [
    "- the residuals apear to be staionary \n",
    "\n",
    "## Problem K"
   ]
  },
  {
   "cell_type": "code",
   "execution_count": null,
   "id": "83b10b3f",
   "metadata": {},
   "outputs": [],
   "source": [
    "fig = plot_acf(df['log_CPINSA4'].dropna(), lags=25)\n",
    "plt.show()\n",
    "fig = plot_pacf(df['log_CPINSA4'].dropna(), lags=25)\n",
    "plt.show()"
   ]
  },
  {
   "cell_type": "markdown",
   "id": "420e65d0",
   "metadata": {},
   "source": [
    "- the residuals seam to be autocorrolated by round 10 periods\n",
    "\n",
    "# Problem \n",
    "## Problem A"
   ]
  },
  {
   "cell_type": "code",
   "execution_count": null,
   "id": "27e4a366",
   "metadata": {},
   "outputs": [],
   "source": [
    "df = pd.read_excel(\"data/QUARTERLY-1.xls\")\n",
    "df['date'] = pd.PeriodIndex(df['Date'], freq='Q')\n",
    "df.set_index('date', inplace=True)\n",
    "# df = df[[\"CPINSA\",\"Date\"]]\n",
    "df[\"s\"] = df[\"r10\"] - df[\"Tbill\"]\n",
    "df = df[[\"s\",\"Date\"]]\n",
    "df"
   ]
  },
  {
   "cell_type": "code",
   "execution_count": null,
   "id": "8d4d254c",
   "metadata": {},
   "outputs": [],
   "source": [
    "plt.figure(figsize=(8, 5))\n",
    "plt.plot(df.index.to_timestamp(), df['s'], marker='o')\n",
    "plt.title('Quarterly Data')\n",
    "plt.xlabel('Date')\n",
    "plt.ylabel('TB3mo')\n",
    "plt.grid(True)\n",
    "plt.tight_layout()\n",
    "plt.show()"
   ]
  },
  {
   "cell_type": "markdown",
   "id": "ca754a38",
   "metadata": {},
   "source": [
    "- it looks stationary\n",
    "\n",
    "## Problem B"
   ]
  },
  {
   "cell_type": "code",
   "execution_count": null,
   "id": "4cff5da6",
   "metadata": {},
   "outputs": [],
   "source": [
    "fig = plot_acf(df['s'], lags=25)\n",
    "plt.show()\n",
    "plot_pacf(df['s'], lags=25)\n",
    "plt.show()"
   ]
  },
  {
   "cell_type": "markdown",
   "id": "b4559b87",
   "metadata": {},
   "source": [
    "- it seams to be autocorrolated by 4 units and partial autocorrelated by 1"
   ]
  },
  {
   "cell_type": "code",
   "execution_count": null,
   "id": "d0b03cc8",
   "metadata": {},
   "outputs": [],
   "source": [
    "res_ar2 = AutoReg(df['s'].dropna(), lags =2).fit()\n",
    "print(res_ar2.summary())\n",
    "df[\"residuals\"] = res_ar2.resid\n",
    "plt.figure(figsize=(10, 5))\n",
    "plt.plot(df.index.to_timestamp(), df[\"residuals\"], marker='o', linestyle='-')\n",
    "plt.axhline(0, color='red', linestyle='--')\n",
    "plt.title(\"Regression Residuals: log(CPINSA_t / CPINSA_{t-1}) ~ Quarterly Dummies\")\n",
    "plt.xlabel(\"Date\")\n",
    "plt.ylabel(\"Residual\")\n",
    "plt.grid(True)\n",
    "plt.tight_layout()\n",
    "plt.show()"
   ]
  },
  {
   "cell_type": "code",
   "execution_count": null,
   "id": "ecb20be6",
   "metadata": {},
   "outputs": [],
   "source": [
    "residuals = res_ar2.resid\n",
    "\n",
    "ljung_box_results = acorr_ljungbox(residuals, lags=range(1, 21), return_df=True)\n",
    "\n",
    "print(ljung_box_results)\n",
    "\n",
    "# Optional: Plot p-values to visualize autocorrelation\n",
    "ljung_box_results['lb_pvalue'].plot(title='Ljung-Box Test P-Values')\n",
    "plt.axhline(y=0.05, color='red', linestyle='--', label='Significance Level (0.05)')\n",
    "plt.xlabel('Lag')\n",
    "plt.ylabel('P-value')\n",
    "plt.legend()\n",
    "plt.show()"
   ]
  },
  {
   "cell_type": "markdown",
   "id": "46cf6ab3",
   "metadata": {},
   "source": [
    "- there seem to be autocorroration for periods after 5\n",
    "\n",
    "## Problem E"
   ]
  },
  {
   "cell_type": "code",
   "execution_count": null,
   "id": "207fde3b",
   "metadata": {},
   "outputs": [],
   "source": [
    "res_ar7 = AutoReg(df['s'].dropna(), lags =7).fit()\n",
    "print(res_ar7.summary())"
   ]
  },
  {
   "cell_type": "markdown",
   "id": "49cdcd0f",
   "metadata": {},
   "source": [
    "## Problem F"
   ]
  },
  {
   "cell_type": "code",
   "execution_count": null,
   "id": "3adb99ea",
   "metadata": {},
   "outputs": [],
   "source": [
    "residuals = res_ar7.resid\n",
    "\n",
    "ljung_box_results = acorr_ljungbox(residuals, lags=range(1, 21), return_df=True)\n",
    "\n",
    "\n",
    "print(ljung_box_results)\n",
    "\n",
    "ljung_box_results['lb_pvalue'].plot(title='Ljung-Box Test P-Values')\n",
    "plt.axhline(y=0.05, color='red', linestyle='--', label='Significance Level (0.05)')\n",
    "plt.xlabel('Lag')\n",
    "plt.ylabel('P-value')\n",
    "plt.legend()\n",
    "plt.show()"
   ]
  },
  {
   "cell_type": "markdown",
   "id": "cafb099a",
   "metadata": {},
   "source": [
    "- there does not seem to be autoccoeration\n",
    "\n",
    "## Problem G"
   ]
  },
  {
   "cell_type": "code",
   "execution_count": null,
   "id": "f0ccfb2d",
   "metadata": {},
   "outputs": [],
   "source": [
    "print(f\"AIC AR(2): {res_ar2.aic}\")\n",
    "print(f\"AIC AR(7): {res_ar7.aic}\")\n",
    "\n",
    "print(f\"BIC AR(2): {res_ar2.bic}\")\n",
    "print(f\"BIC AR(7): {res_ar7.bic}\")"
   ]
  },
  {
   "cell_type": "markdown",
   "id": "dda84f00",
   "metadata": {},
   "source": [
    "## Problem H"
   ]
  },
  {
   "cell_type": "code",
   "execution_count": null,
   "id": "dff13318",
   "metadata": {},
   "outputs": [],
   "source": [
    "df2 = df.head(-10)\n",
    "y = df2['s'].dropna()\n",
    "\n",
    "forecast_ar2 = res_ar2.predict(start=res_ar2.model._hold_back, end=len(y)-1)\n",
    "\n",
    "error_ar2 = y[res_ar2.model._hold_back:] - forecast_ar2\n",
    "error_ar2"
   ]
  },
  {
   "cell_type": "code",
   "execution_count": null,
   "id": "a061186e",
   "metadata": {},
   "outputs": [],
   "source": [
    "y = df2['s'].dropna()\n",
    "\n",
    "res_ar7 = AutoReg(df2['s'].dropna(), lags=7).fit()\n",
    "\n",
    "\n",
    "forecast_ar7 = res_ar7.predict(start=res_ar7.model._hold_back, end=len(y)-1)\n",
    "\n",
    "error_ar7 = y[res_ar7.model._hold_back:] - forecast_ar7\n",
    "error_ar7"
   ]
  },
  {
   "cell_type": "code",
   "execution_count": null,
   "id": "d493958a",
   "metadata": {},
   "outputs": [],
   "source": [
    "mse_ar2 = (error_ar2**2).mean()\n",
    "mse_ar7 = (error_ar7**2).mean()\n",
    "\n",
    "print(f'MSE AR(2): {mse_ar2:.4f}')\n",
    "print(f'MSE AR(7): {mse_ar7:.4f}')"
   ]
  },
  {
   "cell_type": "markdown",
   "id": "b7651899",
   "metadata": {},
   "source": [
    "- The AR(7) seems to have a smaller forecst error than AR(2) \n",
    "\n",
    "## Problem I "
   ]
  },
  {
   "cell_type": "code",
   "execution_count": null,
   "id": "9b4e2455",
   "metadata": {},
   "outputs": [],
   "source": [
    "forecast_ar2 = res_ar2.predict(start=len(y), end=len(y)+9)\n",
    "\n",
    "# Forecast error\n",
    "error_ar2 = df['s'].tail(10) - forecast_ar2\n",
    "error_ar2"
   ]
  },
  {
   "cell_type": "code",
   "execution_count": null,
   "id": "4a1f7be4",
   "metadata": {},
   "outputs": [],
   "source": [
    "forecast_ar7 = res_ar7.predict(start=len(y), end=len(y)+9)\n",
    "\n",
    "# Forecast error\n",
    "error_ar7 = df['s'].tail(10) - forecast_ar7\n",
    "forecast_ar7"
   ]
  },
  {
   "cell_type": "code",
   "execution_count": null,
   "id": "3ffa1bf7",
   "metadata": {},
   "outputs": [],
   "source": [
    "mse_ar2 = (error_ar2**2).mean()\n",
    "mse_ar7 = (error_ar7**2).mean()\n",
    "\n",
    "print(f'MSE AR(2): {mse_ar2:.4f}')\n",
    "print(f'MSE AR(7): {mse_ar7:.4f}')"
   ]
  },
  {
   "cell_type": "markdown",
   "id": "18e636f0",
   "metadata": {},
   "source": [
    "- the AR(2) seems to preferm better than the AR(7) at forcasting the 10 steps. This is supporicin ggiven that looking at the entire series the AR(7) fits better the historical data"
   ]
  }
 ],
 "metadata": {
  "kernelspec": {
   "display_name": ".venv",
   "language": "python",
   "name": "python3"
  },
  "language_info": {
   "codemirror_mode": {
    "name": "ipython",
    "version": 3
   },
   "file_extension": ".py",
   "mimetype": "text/x-python",
   "name": "python",
   "nbconvert_exporter": "python",
   "pygments_lexer": "ipython3",
   "version": "3.10.18"
  }
 },
 "nbformat": 4,
 "nbformat_minor": 5
}
