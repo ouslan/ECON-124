{
 "cells": [
  {
   "cell_type": "code",
   "execution_count": null,
   "id": "39c530bd",
   "metadata": {},
   "outputs": [],
   "source": [
    "import polars as pl\n",
    "import statsmodels.formula.api as smf"
   ]
  },
  {
   "cell_type": "code",
   "execution_count": null,
   "id": "d7f055e1",
   "metadata": {},
   "outputs": [],
   "source": [
    "# Question \n",
    "#1a\n",
    "df = pl.read_excel(\"data/fertil2.xlsx\")\n",
    "df = df.select(\n",
    "    pl.col(\"children\", \"age\", \"educ\", \"electric\", \"urban\",'spirit','protest','catholic')\n",
    ")\n",
    "df =df.with_columns(\n",
    "    age2=pl.col(\"age\")**2\n",
    ")\n",
    "df = df.to_pandas()"
   ]
  },
  {
   "cell_type": "code",
   "execution_count": null,
   "id": "16c4ba8d",
   "metadata": {},
   "outputs": [],
   "source": [
    "model = smf.ols(\"children ~ age + age2 + educ + electric + urban\", data=df).fit()\n",
    "print(model.summary())"
   ]
  },
  {
   "cell_type": "code",
   "execution_count": null,
   "id": "c27ccdcc",
   "metadata": {},
   "outputs": [],
   "source": [
    "model = smf.ols(\"children ~ age + age2 + educ + electric + urban\", data=df).fit(cov_type='HC1')\n",
    "print(model.summary())"
   ]
  },
  {
   "cell_type": "code",
   "execution_count": null,
   "id": "07159106",
   "metadata": {},
   "outputs": [],
   "source": [
    "# It seems that the robust standard errors are generally larger than the non\n",
    "# robust ones, but not neccesarily always the case."
   ]
  },
  {
   "cell_type": "code",
   "execution_count": null,
   "id": "2587a164",
   "metadata": {},
   "outputs": [],
   "source": [
    "#1b\n",
    "model = smf.ols(\"children ~ age + age2 + educ + electric + urban + spirit + protest + catholic\", data=df).fit()\n",
    "print(model.summary())\n",
    "print(model.f_test(\"spirit = protest = catholic = 0\"))"
   ]
  },
  {
   "cell_type": "code",
   "execution_count": null,
   "id": "dfd40c76",
   "metadata": {},
   "outputs": [],
   "source": [
    "model = smf.ols(\"children ~ age + age2 + educ + electric + urban + spirit + protest + catholic\", data=df).fit(cov_type='HC1')\n",
    "print(model.summary())\n",
    "print(model.f_test(\"spirit = protest = catholic = 0\"))"
   ]
  },
  {
   "cell_type": "code",
   "execution_count": null,
   "id": "da9a7222",
   "metadata": {},
   "outputs": [],
   "source": [
    "# The p-values for the non-robust test is 0.0864, while the p-value for the\n",
    "# robust test is 0.0911. It seems that robust tests are less likely to report\n",
    "# something is significant, especially assuming standard errors are greater\n",
    "# than non-robust ones."
   ]
  },
  {
   "cell_type": "code",
   "execution_count": null,
   "id": "bdf1bf30",
   "metadata": {},
   "outputs": [],
   "source": [
    "#1c\n",
    "df['yhat'] = model.fittedvalues\n",
    "df[\"u_hat\"] = model.resid\n",
    "df[\"u_hat2\"] = df[\"u_hat\"]**2\n",
    "df['yhat2'] = df['yhat']**2\n",
    "df"
   ]
  },
  {
   "cell_type": "code",
   "execution_count": null,
   "id": "0103e108",
   "metadata": {},
   "outputs": [],
   "source": [
    "model = smf.ols(\"u_hat2 ~ yhat + yhat2\", data=df).fit()\n",
    "print(model.summary())\n",
    "print(model.f_test(\"yhat = yhat2 = 0\"))"
   ]
  }
 ],
 "metadata": {
  "kernelspec": {
   "display_name": ".venv",
   "language": "python",
   "name": "python3"
  },
  "language_info": {
   "codemirror_mode": {
    "name": "ipython",
    "version": 3
   },
   "file_extension": ".py",
   "mimetype": "text/x-python",
   "name": "python",
   "nbconvert_exporter": "python",
   "pygments_lexer": "ipython3",
   "version": "3.10.18"
  }
 },
 "nbformat": 4,
 "nbformat_minor": 5
}
