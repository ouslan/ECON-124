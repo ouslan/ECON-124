{
 "cells": [
  {
   "cell_type": "code",
   "execution_count": 1,
   "id": "b658f252",
   "metadata": {},
   "outputs": [],
   "source": [
    "import numpy as np\n",
    "from numpy.linalg import inv\n",
    "from statsmodels.api import add_constant"
   ]
  },
  {
   "cell_type": "code",
   "execution_count": 2,
   "id": "75760861",
   "metadata": {},
   "outputs": [],
   "source": [
    "XTX = np.array([\n",
    "    [100, 123,  96, 109],\n",
    "    [123, 252, 125, 189],\n",
    "    [ 96, 125, 167, 146],\n",
    "    [109, 189, 146, 168]\n",
    "])\n",
    "\n",
    "XTy = np.array([460, 810, 615, 712]).reshape(-1,1)\n",
    "\n",
    "yTy = 3924"
   ]
  },
  {
   "cell_type": "code",
   "execution_count": null,
   "id": "c4f0906a",
   "metadata": {},
   "outputs": [
    {
     "name": "stdout",
     "output_type": "stream",
     "text": [
      "[[1.     0.6093 0.9186]\n",
      " [0.6093 1.     0.8716]\n",
      " [0.9186 0.8716 1.    ]]\n"
     ]
    }
   ],
   "source": [
    "# 1a\n",
    "M = np.array([\n",
    "    [252, 125, 189],\n",
    "    [125, 167, 146],\n",
    "    [189, 146, 168]\n",
    "])\n",
    "\n",
    "std_devs = np.sqrt(np.diag(M))\n",
    "\n",
    "correlation_matrix = M / np.outer(std_devs, std_devs)\n",
    "print(np.round(correlation_matrix, 4))"
   ]
  },
  {
   "cell_type": "code",
   "execution_count": null,
   "id": "5b5a1f4f",
   "metadata": {},
   "outputs": [
    {
     "name": "stdout",
     "output_type": "stream",
     "text": [
      "[[-0.40220662]\n",
      " [ 6.12337011]\n",
      " [ 5.90972919]\n",
      " [-7.52557673]]\n"
     ]
    }
   ],
   "source": [
    "#1b\n",
    "print(inv(XTX) @ XTy)"
   ]
  },
  {
   "cell_type": "code",
   "execution_count": 8,
   "id": "4c4475a3",
   "metadata": {},
   "outputs": [
    {
     "name": "stdout",
     "output_type": "stream",
     "text": [
      "[[-0.22635778]\n",
      " [ 2.2800681 ]\n",
      " [ 2.10611877]]\n"
     ]
    }
   ],
   "source": [
    "# 1c\n",
    "XTX_1 = np.delete(np.delete(XTX, 3, 0), 3, 1)\n",
    "XTy_1 = np.delete(XTy,3,0)\n",
    "print(inv(XTX_1) @ XTy_1)"
   ]
  },
  {
   "cell_type": "code",
   "execution_count": 9,
   "id": "8a935f2c",
   "metadata": {},
   "outputs": [
    {
     "name": "stdout",
     "output_type": "stream",
     "text": [
      "[[-0.06961614]\n",
      " [ 0.22923444]\n",
      " [ 4.02537411]]\n"
     ]
    }
   ],
   "source": [
    "XTX_2 = np.delete(np.delete(XTX, 2, 0), 2, 1)\n",
    "XTy_2 = np.delete(XTy,2,0)\n",
    "print(inv(XTX_2) @ XTy_2)"
   ]
  },
  {
   "cell_type": "code",
   "execution_count": 10,
   "id": "66f896da",
   "metadata": {},
   "outputs": [
    {
     "name": "stdout",
     "output_type": "stream",
     "text": [
      "[[-0.06268743]\n",
      " [-0.09177817]\n",
      " [ 4.35852704]]\n"
     ]
    }
   ],
   "source": [
    "XTX_3 = np.delete(np.delete(XTX, 1, 0), 1, 1)\n",
    "XTy_3 = np.delete(XTy,1,0)\n",
    "print(inv(XTX_3) @ XTy_3)"
   ]
  },
  {
   "cell_type": "code",
   "execution_count": 11,
   "id": "8d596c86",
   "metadata": {},
   "outputs": [
    {
     "name": "stdout",
     "output_type": "stream",
     "text": [
      "VIF for x_1: 258.40\n",
      "VIF for x_2: 168.07\n",
      "VIF for x_3: 676.27\n"
     ]
    }
   ],
   "source": [
    "# 1d\n",
    "XTX_no_const = np.delete(np.delete(XTX, 0, 0), 0, 1)\n",
    "\n",
    "stds = np.sqrt(np.diag(XTX_no_const))\n",
    "\n",
    "\n",
    "R = XTX_no_const / np.outer(stds, stds)\n",
    "\n",
    "R_inv = np.linalg.inv(R)\n",
    "VIFs = np.diag(R_inv)\n",
    "\n",
    "for i, vif in enumerate(VIFs, start=1):\n",
    "    print(f\"VIF for x_{i}: {vif:.2f}\")"
   ]
  },
  {
   "cell_type": "code",
   "execution_count": null,
   "id": "9fce6301",
   "metadata": {},
   "outputs": [
    {
     "name": "stdout",
     "output_type": "stream",
     "text": [
      "F-statistic: 0.1595454545454546\n",
      "p-value: [[0.69283761]]\n"
     ]
    }
   ],
   "source": [
    "#2\n",
    "import numpy as np\n",
    "from scipy import stats\n",
    "\n",
    "\n",
    "e_e = 520\n",
    "n = 29\n",
    "k = 3 \n",
    "XTX = np.array([[29, 0, 0],\n",
    "                [0, 50, 10],\n",
    "                [0, 10, 80]])\n",
    "beta_hat = np.array([4, 0.4, 0.9])\n",
    "\n",
    "\n",
    "sigma_squared = e_e / (n - k)\n",
    "\n",
    "\n",
    "XTX_inv = np.linalg.inv(XTX)\n",
    "\n",
    "R = np.array([[0, 1, 1]])\n",
    "r = 1\n",
    "\n",
    "\n",
    "Rb_minus_r = R @ beta_hat - r\n",
    "denominator = R @ XTX_inv @ R.T * sigma_squared\n",
    "F_stat = (Rb_minus_r ** 2) / denominator\n",
    "\n",
    "\n",
    "df1 = 1  \n",
    "df2 = n - k\n",
    "\n",
    "\n",
    "p_value = 1 - stats.f.cdf(F_stat, df1, df2)\n",
    "\n",
    "print(\"F-statistic:\", F_stat[0][0])\n",
    "print(\"p-value:\", p_value)\n"
   ]
  },
  {
   "cell_type": "code",
   "execution_count": 24,
   "id": "1e4eb04a",
   "metadata": {},
   "outputs": [],
   "source": [
    "#2\n",
    "import polars as pl \n",
    "import statsmodels.api as sm\n",
    "\n",
    "from scipy.stats import chi2\n"
   ]
  },
  {
   "cell_type": "code",
   "execution_count": 14,
   "id": "01e94b14",
   "metadata": {},
   "outputs": [],
   "source": [
    "\n",
    "df1 = pl.read_excel(\"data/timeinvar.xlsx\")\n",
    "df2 = pl.read_excel(\"data/timevar.xlsx\")\n",
    "df = df1.join(df2, on=\"id\", how=\"left\",validate=\"m:m\")"
   ]
  },
  {
   "cell_type": "code",
   "execution_count": null,
   "id": "a4db0afc",
   "metadata": {},
   "outputs": [
    {
     "name": "stdout",
     "output_type": "stream",
     "text": [
      "                            OLS Regression Results                            \n",
      "==============================================================================\n",
      "Dep. Variable:                      y   R-squared:                       0.173\n",
      "Model:                            OLS   Adj. R-squared:                  0.173\n",
      "Method:                 Least Squares   F-statistic:                     1253.\n",
      "Date:                Mon, 30 Jun 2025   Prob (F-statistic):               0.00\n",
      "Time:                        19:58:41   Log-Likelihood:                -12283.\n",
      "No. Observations:               17919   AIC:                         2.457e+04\n",
      "Df Residuals:                   17915   BIC:                         2.460e+04\n",
      "Df Model:                           3                                         \n",
      "Covariance Type:            nonrobust                                         \n",
      "==============================================================================\n",
      "                 coef    std err          t      P>|t|      [0.025      0.975]\n",
      "------------------------------------------------------------------------------\n",
      "const          1.0272      0.030     34.194      0.000       0.968       1.086\n",
      "x1             0.0738      0.002     33.312      0.000       0.069       0.078\n",
      "x2             0.0395      0.001     43.958      0.000       0.038       0.041\n",
      "x3             0.0829      0.005     18.020      0.000       0.074       0.092\n",
      "==============================================================================\n",
      "Omnibus:                     1110.415   Durbin-Watson:                   0.801\n",
      "Prob(Omnibus):                  0.000   Jarque-Bera (JB):             2075.096\n",
      "Skew:                          -0.458   Prob(JB):                         0.00\n",
      "Kurtosis:                       4.393   Cond. No.                         130.\n",
      "==============================================================================\n",
      "\n",
      "Notes:\n",
      "[1] Standard Errors assume that the covariance matrix of the errors is correctly specified.\n"
     ]
    }
   ],
   "source": [
    "#1a\n",
    "X_1 = df[[\"edu\", \"exper\", \"ability\"]].to_numpy()\n",
    "X_1 = sm.add_constant(X_1)\n",
    "y  = df[[\"lwage\"]].to_numpy()\n",
    "res1 = sm.OLS(y, X_1).fit()\n",
    "print(res1.summary())"
   ]
  },
  {
   "cell_type": "code",
   "execution_count": 17,
   "id": "28053aed",
   "metadata": {},
   "outputs": [
    {
     "name": "stdout",
     "output_type": "stream",
     "text": [
      "                            OLS Regression Results                            \n",
      "==============================================================================\n",
      "Dep. Variable:                      y   R-squared:                       0.027\n",
      "Model:                            OLS   Adj. R-squared:                  0.027\n",
      "Method:                 Least Squares   F-statistic:                     123.2\n",
      "Date:                Mon, 30 Jun 2025   Prob (F-statistic):          6.81e-104\n",
      "Time:                        19:58:41   Log-Likelihood:                -13746.\n",
      "No. Observations:               17919   AIC:                         2.750e+04\n",
      "Df Residuals:                   17914   BIC:                         2.754e+04\n",
      "Df Model:                           4                                         \n",
      "Covariance Type:            nonrobust                                         \n",
      "==============================================================================\n",
      "                 coef    std err          t      P>|t|      [0.025      0.975]\n",
      "------------------------------------------------------------------------------\n",
      "const          2.0119      0.019    104.391      0.000       1.974       2.050\n",
      "x1             0.0100      0.002      5.538      0.000       0.006       0.014\n",
      "x2             0.0151      0.001     10.727      0.000       0.012       0.018\n",
      "x3            -0.0861      0.011     -7.964      0.000      -0.107      -0.065\n",
      "x4             0.0020      0.002      1.034      0.301      -0.002       0.006\n",
      "==============================================================================\n",
      "Omnibus:                      383.928   Durbin-Watson:                   0.782\n",
      "Prob(Omnibus):                  0.000   Jarque-Bera (JB):              580.233\n",
      "Skew:                          -0.229   Prob(JB):                    1.01e-126\n",
      "Kurtosis:                       3.753   Cond. No.                         85.8\n",
      "==============================================================================\n",
      "\n",
      "Notes:\n",
      "[1] Standard Errors assume that the covariance matrix of the errors is correctly specified.\n"
     ]
    }
   ],
   "source": [
    "X_2 = df[[\"meduc\", \"feduc\", \"brokenhome\", \"siblings\"]].to_numpy()\n",
    "X_2 = sm.add_constant(X_2)\n",
    "y  = df[[\"lwage\"]].to_numpy()\n",
    "res2 = sm.OLS(y, X_2).fit()\n",
    "print(res2.summary())"
   ]
  },
  {
   "cell_type": "code",
   "execution_count": 18,
   "id": "dd3d9bcc",
   "metadata": {},
   "outputs": [
    {
     "name": "stdout",
     "output_type": "stream",
     "text": [
      "<F test: F=1252.9441313488094, p=0.0, df_denom=1.79e+04, df_num=3>\n"
     ]
    }
   ],
   "source": [
    "#3b\n",
    "A = np.identity(len(res1.params))\n",
    "A = A[1:,:]\n",
    "A\n",
    "\n",
    "f_test_result = res1.f_test(A)\n",
    "print(f_test_result)"
   ]
  },
  {
   "cell_type": "code",
   "execution_count": 19,
   "id": "9058350f",
   "metadata": {},
   "outputs": [
    {
     "name": "stdout",
     "output_type": "stream",
     "text": [
      "<F test: F=123.18097459989582, p=6.806967723094877e-104, df_denom=1.79e+04, df_num=4>\n"
     ]
    }
   ],
   "source": [
    "#3c\n",
    "A = np.identity(len(res2.params))\n",
    "A = A[1:,:]\n",
    "A\n",
    "\n",
    "f_test_result = res2.f_test(A)\n",
    "print(f_test_result)"
   ]
  },
  {
   "cell_type": "code",
   "execution_count": 20,
   "id": "4c5c51a2",
   "metadata": {},
   "outputs": [
    {
     "name": "stderr",
     "output_type": "stream",
     "text": [
      "/home/ouslan/Documents/Github/ECON-124/.venv/lib/python3.10/site-packages/statsmodels/base/model.py:1912: FutureWarning: The behavior of wald_test will change after 0.14 to returning scalar test statistic values. To get the future behavior now, set scalar to True. To silence this message while retaining the legacy behavior, set scalar to False.\n",
      "  warnings.warn(\n"
     ]
    },
    {
     "data": {
      "text/plain": [
       "<class 'statsmodels.stats.contrast.ContrastResults'>\n",
       "<F test: F=array([[123.1809746]]), p=6.806967723094877e-104, df_denom=1.79e+04, df_num=4>"
      ]
     },
     "execution_count": 20,
     "metadata": {},
     "output_type": "execute_result"
    }
   ],
   "source": [
    "# 3d\n",
    "res2.wald_test(A)"
   ]
  },
  {
   "cell_type": "code",
   "execution_count": 21,
   "id": "731ef317",
   "metadata": {},
   "outputs": [
    {
     "name": "stdout",
     "output_type": "stream",
     "text": [
      "                            OLS Regression Results                            \n",
      "==============================================================================\n",
      "Dep. Variable:               Cost_log   R-squared:                       0.926\n",
      "Model:                            OLS   Adj. R-squared:                  0.924\n",
      "Method:                 Least Squares   F-statistic:                     437.7\n",
      "Date:                Mon, 30 Jun 2025   Prob (F-statistic):           4.82e-78\n",
      "Time:                        19:58:41   Log-Likelihood:                -67.542\n",
      "No. Observations:                 145   AIC:                             145.1\n",
      "Df Residuals:                     140   BIC:                             160.0\n",
      "Df Model:                           4                                         \n",
      "Covariance Type:            nonrobust                                         \n",
      "================================================================================\n",
      "                   coef    std err          t      P>|t|      [0.025      0.975]\n",
      "--------------------------------------------------------------------------------\n",
      "const           -3.5265      1.774     -1.987      0.049      -7.035      -0.018\n",
      "output_log       0.7204      0.017     41.244      0.000       0.686       0.755\n",
      "Plabor_log       0.4363      0.291      1.499      0.136      -0.139       1.012\n",
      "Pcapital_log    -0.2199      0.339     -0.648      0.518      -0.891       0.451\n",
      "Pfuel_log        0.4265      0.100      4.249      0.000       0.228       0.625\n",
      "==============================================================================\n",
      "Omnibus:                       51.403   Durbin-Watson:                   1.013\n",
      "Prob(Omnibus):                  0.000   Jarque-Bera (JB):              175.700\n",
      "Skew:                           1.303   Prob(JB):                     7.03e-39\n",
      "Kurtosis:                       7.721   Cond. No.                         506.\n",
      "==============================================================================\n",
      "\n",
      "Notes:\n",
      "[1] Standard Errors assume that the covariance matrix of the errors is correctly specified.\n"
     ]
    }
   ],
   "source": [
    "# 4a\n",
    "df = pl.read_excel(\"data/Nerlove1963.xlsx\").to_pandas()\n",
    "for col in df.columns:\n",
    "    df[f\"{col}_log\"] = np.log(df[col])\n",
    "X = df[[\"output_log\", \"Plabor_log\", \"Pcapital_log\", \"Pfuel_log\"]]\n",
    "X = sm.add_constant(X)\n",
    "y = df[\"Cost_log\"]\n",
    "\n",
    "model = sm.OLS(y, X).fit()\n",
    "\n",
    "print(model.summary())"
   ]
  },
  {
   "cell_type": "code",
   "execution_count": null,
   "id": "095e650c",
   "metadata": {},
   "outputs": [
    {
     "name": "stdout",
     "output_type": "stream",
     "text": [
      "\n",
      "Constrained GLM (Gaussian) results:\n",
      "                 Generalized Linear Model Regression Results                  \n",
      "==============================================================================\n",
      "Dep. Variable:               Cost_log   No. Observations:                  145\n",
      "Model:                            GLM   Df Residuals:                      141\n",
      "Model Family:                Gaussian   Df Model:                            3\n",
      "Link Function:               Identity   Scale:                         0.15348\n",
      "Method:                          IRLS   Log-Likelihood:                -67.838\n",
      "Date:                Mon, 30 Jun 2025   Deviance:                       21.640\n",
      "Time:                        20:00:53   Pearson chi2:                     21.6\n",
      "No. Iterations:                     1   Pseudo R-squ. (CS):              1.000\n",
      "Covariance Type:            nonrobust                                         \n",
      "================================================================================\n",
      "                   coef    std err          z      P>|z|      [0.025      0.975]\n",
      "--------------------------------------------------------------------------------\n",
      "const           -4.6908      0.885     -5.301      0.000      -6.425      -2.956\n",
      "output_log       0.7207      0.017     41.334      0.000       0.687       0.755\n",
      "Plabor_log       0.5929      0.205      2.898      0.004       0.192       0.994\n",
      "Pcapital_log    -0.0074      0.191     -0.039      0.969      -0.381       0.366\n",
      "Pfuel_log        0.4145      0.099      4.189      0.000       0.221       0.608\n",
      "================================================================================\n",
      "\n",
      "Model has been estimated subject to linear equality constraints.\n"
     ]
    }
   ],
   "source": [
    "#4c\n",
    "glm_model = sm.GLM(y, X, family=sm.families.Gaussian())\n",
    "constraint = 'Plabor_log + Pcapital_log + Pfuel_log = 1'\n",
    "\n",
    "model_constrained = glm_model.fit_constrained(constraint)\n",
    "print(\"\\nConstrained GLM (Gaussian) results:\")\n",
    "print(model_constrained.summary())"
   ]
  },
  {
   "cell_type": "code",
   "execution_count": null,
   "id": "c4fea6cb",
   "metadata": {},
   "outputs": [
    {
     "name": "stdout",
     "output_type": "stream",
     "text": [
      "Wald statistic: 0.0000\n",
      "p-value: 1.0000\n"
     ]
    }
   ],
   "source": [
    "# 4d\n",
    "R = np.array([[0, 0, 1, 1, 1]])\n",
    "q = np.array([1]) \n",
    "\n",
    "\n",
    "beta_hat = model_constrained.params.values\n",
    "cov_beta = model_constrained.cov_params().values\n",
    "\n",
    "W = (R @ beta_hat - q) @ np.linalg.inv(R @ cov_beta @ R.T) @ (R @ beta_hat - q)\n",
    "p_value = 1 - chi2.cdf(W, df=1)\n",
    "\n",
    "print(f\"Wald statistic: {W:.4f}\")\n",
    "print(f\"p-value: {p_value:.4f}\")"
   ]
  }
 ],
 "metadata": {
  "kernelspec": {
   "display_name": ".venv",
   "language": "python",
   "name": "python3"
  },
  "language_info": {
   "codemirror_mode": {
    "name": "ipython",
    "version": 3
   },
   "file_extension": ".py",
   "mimetype": "text/x-python",
   "name": "python",
   "nbconvert_exporter": "python",
   "pygments_lexer": "ipython3",
   "version": "3.10.18"
  }
 },
 "nbformat": 4,
 "nbformat_minor": 5
}
