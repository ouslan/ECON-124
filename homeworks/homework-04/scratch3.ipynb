{
 "cells": [
  {
   "cell_type": "code",
   "execution_count": null,
   "id": "1c09c9fe",
   "metadata": {},
   "outputs": [],
   "source": [
    "import pandas as pd\n",
    "from statsmodels.graphics.tsaplots import plot_acf, plot_pacf\n",
    "import numpy as np\n",
    "from statsmodels.tsa.arima.model import ARIMA\n",
    "import statsmodels.api as sm\n",
    "from statsmodels.tsa.ar_model import AutoReg\n",
    "import matplotlib.pyplot as plt"
   ]
  },
  {
   "cell_type": "code",
   "execution_count": null,
   "id": "947d67c0",
   "metadata": {},
   "outputs": [],
   "source": [
    "df = pd.read_excel(\"data/QUARTERLY-1.xls\")\n",
    "df['date'] = pd.PeriodIndex(df['Date'], freq='Q')\n",
    "df.set_index('date', inplace=True)\n",
    "df = df[[\"CPINSA\",\"Date\"]]\n",
    "df"
   ]
  },
  {
   "cell_type": "code",
   "execution_count": null,
   "id": "5c5accb7",
   "metadata": {},
   "outputs": [],
   "source": [
    "#3a\n",
    "plt.figure(figsize=(8, 5))\n",
    "plt.plot(df.index.to_timestamp(), df['CPINSA'], marker='o')\n",
    "plt.title('Quarterly Data')\n",
    "plt.xlabel('Date')\n",
    "plt.ylabel('TB3mo')\n",
    "plt.grid(True)\n",
    "plt.tight_layout()\n",
    "plt.show()"
   ]
  },
  {
   "cell_type": "code",
   "execution_count": null,
   "id": "3d96ee5c",
   "metadata": {},
   "outputs": [],
   "source": [
    "# does not look staionary "
   ]
  },
  {
   "cell_type": "code",
   "execution_count": null,
   "id": "8f9b7591",
   "metadata": {},
   "outputs": [],
   "source": [
    "#3b\n",
    "fig = plot_acf(df['CPINSA'], lags=25)\n",
    "plt.show()"
   ]
  },
  {
   "cell_type": "code",
   "execution_count": null,
   "id": "4da441aa",
   "metadata": {},
   "outputs": [],
   "source": [
    "plot_pacf(df['CPINSA'], lags=25)\n",
    "plt.show()\n"
   ]
  },
  {
   "cell_type": "code",
   "execution_count": null,
   "id": "47233db0",
   "metadata": {},
   "outputs": [],
   "source": [
    "#c \n",
    "df[\"log_CPINSA\"] = np.log((df[\"CPINSA\"] / df[\"CPINSA\"].shift(1)))\n",
    "df"
   ]
  },
  {
   "cell_type": "code",
   "execution_count": null,
   "id": "75121e43",
   "metadata": {},
   "outputs": [],
   "source": [
    "plt.figure(figsize=(8, 5))\n",
    "plt.plot(df.index.to_timestamp(), df['log_CPINSA'], marker='o')\n",
    "plt.title('Quarterly Data')\n",
    "plt.xlabel('Date')\n",
    "plt.ylabel('TB3mo')\n",
    "plt.grid(True)\n",
    "plt.tight_layout()\n",
    "plt.show()"
   ]
  },
  {
   "cell_type": "code",
   "execution_count": null,
   "id": "1aa495f7",
   "metadata": {},
   "outputs": [],
   "source": [
    "# there was a dip but it seems to be stationary given that there is no strong trend "
   ]
  },
  {
   "cell_type": "code",
   "execution_count": null,
   "id": "55e7f82a",
   "metadata": {},
   "outputs": [],
   "source": [
    "#3d\n",
    "fig = plot_acf(df['log_CPINSA'].dropna(), lags=25)\n",
    "plt.show()"
   ]
  },
  {
   "cell_type": "code",
   "execution_count": null,
   "id": "afe7da65",
   "metadata": {},
   "outputs": [],
   "source": [
    "plot_pacf(df['log_CPINSA'].dropna(), lags=25)\n",
    "plt.show()\n"
   ]
  },
  {
   "cell_type": "code",
   "execution_count": null,
   "id": "480fb861",
   "metadata": {},
   "outputs": [],
   "source": [
    "#3e\n",
    "df[\"log_CPINSA4\"] = np.log((df[\"CPINSA\"] / df[\"CPINSA\"].shift(4)))\n",
    "df"
   ]
  },
  {
   "cell_type": "code",
   "execution_count": null,
   "id": "ca2044d4",
   "metadata": {},
   "outputs": [],
   "source": [
    "plt.figure(figsize=(8, 5))\n",
    "plt.plot(df.index.to_timestamp(), df['log_CPINSA4'], marker='o')\n",
    "plt.title('Quarterly Data')\n",
    "plt.xlabel('Date')\n",
    "plt.ylabel('TB3mo')\n",
    "plt.grid(True)\n",
    "plt.tight_layout()\n",
    "plt.show()"
   ]
  },
  {
   "cell_type": "code",
   "execution_count": null,
   "id": "223e1c84",
   "metadata": {},
   "outputs": [],
   "source": [
    "# there was a dip but it seems to be stationary given that there is no strong trend "
   ]
  },
  {
   "cell_type": "code",
   "execution_count": null,
   "id": "cd2050a0",
   "metadata": {},
   "outputs": [],
   "source": [
    "#f\n",
    "fig = plot_acf(df['log_CPINSA4'].dropna(), lags=25)\n",
    "plt.show()"
   ]
  },
  {
   "cell_type": "code",
   "execution_count": null,
   "id": "1d41d5f3",
   "metadata": {},
   "outputs": [],
   "source": [
    "fig = plot_pacf(df['log_CPINSA4'].dropna(), lags=25)\n",
    "plt.show()"
   ]
  },
  {
   "cell_type": "code",
   "execution_count": null,
   "id": "02f942db",
   "metadata": {},
   "outputs": [],
   "source": [
    "#3g\n",
    "res = AutoReg(df['log_CPINSA4'].dropna(), lags =5).fit()\n",
    "print(res.summary())"
   ]
  },
  {
   "cell_type": "code",
   "execution_count": null,
   "id": "0ca74316",
   "metadata": {},
   "outputs": [],
   "source": [
    "y_true = res.model.endog[res.model._hold_back:]  \n",
    "y_pred = res.fittedvalues\n",
    "\n",
    "\n",
    "ssr = np.sum((y_true - y_pred) ** 2)\n",
    "\n",
    "tss = np.sum((y_true - np.mean(y_true)) ** 2)\n",
    "\n",
    "n = len(y_true)\n",
    "k = res.df_model + 1  \n",
    "\n",
    "r2 = 1 - ssr / tss\n",
    "r2_adj = 1 - (ssr / (n - k)) / (tss / (n - 1))\n",
    "\n",
    "print(\"R^2:\", round(r2, 4))\n",
    "print(\"Adjusted R^2:\", round(r2_adj, 4))"
   ]
  },
  {
   "cell_type": "code",
   "execution_count": null,
   "id": "cfdc41e9",
   "metadata": {},
   "outputs": [],
   "source": [
    "arma_mod = ARIMA(df['log_CPINSA4'].dropna(), order=(0, 0, 10)).fit()\n",
    "print(arma_mod.summary())"
   ]
  },
  {
   "cell_type": "code",
   "execution_count": null,
   "id": "406517b1",
   "metadata": {},
   "outputs": [],
   "source": [
    "arma_mod = ARIMA(df['log_CPINSA4'].dropna(), order=(5, 0, 10)).fit()\n",
    "print(arma_mod.summary())"
   ]
  },
  {
   "cell_type": "code",
   "execution_count": null,
   "id": "12260fa9",
   "metadata": {},
   "outputs": [],
   "source": [
    "arma_mod = ARIMA(df['log_CPINSA4'].dropna(), order=(6, 0, 7)).fit()\n",
    "print(arma_mod.summary())"
   ]
  },
  {
   "cell_type": "code",
   "execution_count": null,
   "id": "13dad11f",
   "metadata": {},
   "outputs": [],
   "source": [
    "#h"
   ]
  },
  {
   "cell_type": "code",
   "execution_count": null,
   "id": "b2219040",
   "metadata": {},
   "outputs": [],
   "source": [
    "# looking at the AIC the MA(10) seems to prefrom the best"
   ]
  },
  {
   "cell_type": "code",
   "execution_count": null,
   "id": "84c69ff7",
   "metadata": {},
   "outputs": [],
   "source": [
    "#i\n",
    "# Step 1: Extract quarter from datetime index\n",
    "df[\"quarter\"] = df.index.quarter\n",
    "\n",
    "# Step 2: Create dummy variables with 0/1 values\n",
    "quarter_dummies = pd.get_dummies(df[\"quarter\"], prefix=\"Q\", drop_first=True).astype(int)\n",
    "\n",
    "# Step 3: Concatenate with main DataFrame\n",
    "df = pd.concat([df, quarter_dummies], axis=1)\n",
    "df"
   ]
  },
  {
   "cell_type": "code",
   "execution_count": null,
   "id": "d93cd0ef",
   "metadata": {},
   "outputs": [],
   "source": [
    "X = df[[col for col in df.columns if col.startswith(\"Q_\")]]\n",
    "X = sm.add_constant(X)\n",
    "y = df[\"log_CPINSA4\"]\n",
    "\n",
    "model = sm.OLS(y, X, missing='drop').fit()\n",
    "print(model.summary())\n"
   ]
  },
  {
   "cell_type": "code",
   "execution_count": null,
   "id": "59f1d367",
   "metadata": {},
   "outputs": [],
   "source": [
    "#j\n",
    "df[\"residuals\"] = model.resid\n",
    "plt.figure(figsize=(10, 5))\n",
    "plt.plot(df.index.to_timestamp(), df[\"residuals\"], marker='o', linestyle='-')\n",
    "plt.axhline(0, color='red', linestyle='--')\n",
    "plt.title(\"Regression Residuals: log(CPINSA_t / CPINSA_{t-1}) ~ Quarterly Dummies\")\n",
    "plt.xlabel(\"Date\")\n",
    "plt.ylabel(\"Residual\")\n",
    "plt.grid(True)\n",
    "plt.tight_layout()\n",
    "plt.show()"
   ]
  },
  {
   "cell_type": "code",
   "execution_count": null,
   "id": "21316f1a",
   "metadata": {},
   "outputs": [],
   "source": [
    "# the residuals apear to be staionary "
   ]
  },
  {
   "cell_type": "code",
   "execution_count": null,
   "id": "9b40737b",
   "metadata": {},
   "outputs": [],
   "source": [
    "#k\n",
    "fig = plot_acf(df['log_CPINSA4'].dropna(), lags=25)\n",
    "plt.show()"
   ]
  },
  {
   "cell_type": "code",
   "execution_count": null,
   "id": "010f2988",
   "metadata": {},
   "outputs": [],
   "source": [
    "fig = plot_pacf(df['log_CPINSA4'].dropna(), lags=25)\n",
    "plt.show()"
   ]
  },
  {
   "cell_type": "code",
   "execution_count": null,
   "id": "fa23f2f5",
   "metadata": {},
   "outputs": [],
   "source": [
    "# the residuals seam to be autocorrolated by round 10 periods"
   ]
  }
 ],
 "metadata": {
  "kernelspec": {
   "display_name": ".venv",
   "language": "python",
   "name": "python3"
  },
  "language_info": {
   "codemirror_mode": {
    "name": "ipython",
    "version": 3
   },
   "file_extension": ".py",
   "mimetype": "text/x-python",
   "name": "python",
   "nbconvert_exporter": "python",
   "pygments_lexer": "ipython3",
   "version": "3.10.18"
  }
 },
 "nbformat": 4,
 "nbformat_minor": 5
}
