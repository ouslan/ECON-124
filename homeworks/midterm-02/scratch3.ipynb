{
 "cells": [
  {
   "cell_type": "code",
   "execution_count": null,
   "id": "137e608c",
   "metadata": {},
   "outputs": [],
   "source": [
    "import polars as pl\n",
    "import numpy as np\n",
    "import statsmodels.formula.api as smf\n",
    "from linearmodels.iv import IV2SLS\n",
    "import statsmodels.api as sm\n",
    "import pandas as pd"
   ]
  },
  {
   "cell_type": "code",
   "execution_count": null,
   "id": "cdcd2bd1",
   "metadata": {},
   "outputs": [],
   "source": [
    "# Question 3\n",
    "\n",
    "df1 = pl.read_excel(\"data/timeinvar-1.xlsx\")\n",
    "df2 = pl.read_excel(\"data/timevar-1.xlsx\")\n",
    "df = df1.join(df2, on=\"id\", how=\"left\",validate=\"1:m\")\n",
    "df"
   ]
  }
 ],
 "metadata": {
  "kernelspec": {
   "display_name": ".venv",
   "language": "python",
   "name": "python3"
  },
  "language_info": {
   "name": "python",
   "version": "3.10.18"
  }
 },
 "nbformat": 4,
 "nbformat_minor": 5
}
