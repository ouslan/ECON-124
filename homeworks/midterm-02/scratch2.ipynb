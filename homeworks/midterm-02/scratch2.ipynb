{
 "cells": [
  {
   "cell_type": "code",
   "execution_count": null,
   "id": "1595a74b",
   "metadata": {},
   "outputs": [],
   "source": [
    "import polars as pl\n",
    "import numpy as np\n",
    "import statsmodels.formula.api as smf\n",
    "from linearmodels.iv import IV2SLS"
   ]
  },
  {
   "cell_type": "code",
   "execution_count": null,
   "id": "713ab2f1",
   "metadata": {},
   "outputs": [],
   "source": [
    "# Question 2 \n",
    "# A i\n",
    "df = pl.read_excel(\"data/Movies.xlsx\")\n",
    "df = df.select(\n",
    "    pl.all().exclude(\"month1\", \"year1\"),\n",
    "    ln_assaults=pl.col(\"assaults\").log(),\n",
    "    attendance=pl.col(\"attend_v\") + pl.col(\"attend_m\") + pl.col(\"attend_n\")\n",
    ")\n",
    "data = df.to_pandas()"
   ]
  },
  {
   "cell_type": "code",
   "execution_count": null,
   "id": "7fa0edd6",
   "metadata": {},
   "outputs": [],
   "source": [
    "variables  = df.select(pl.all().exclude(\"assaults\",\"ln_assaults\", \"^atten.*$\", \"^h_.*$\", \"^pr_.*$\", \"^w.*$\")).columns\n",
    "formula = \"ln_assaults ~ \" + \" + \".join(variables)\n",
    "\n",
    "\n",
    "model = smf.ols(formula=formula, data=df).fit()\n",
    "print(model.summary())"
   ]
  },
  {
   "cell_type": "code",
   "execution_count": null,
   "id": "f048f3fc",
   "metadata": {},
   "outputs": [],
   "source": [
    "# In comparison to January there seems to be more assaults during late sprin\n",
    "#and early fall, especially in the summer. (May to Sepetember) So there do\n",
    "# seem to be some seasonality as assaults are lower during winter months."
   ]
  },
  {
   "cell_type": "code",
   "execution_count": null,
   "id": "fa35167c",
   "metadata": {},
   "outputs": [],
   "source": [
    "variables  = df.select(pl.all().exclude(\"assaults\",\"ln_assaults\", \"^atten.*$\", \"^h_.*$\", \"^pr_.*$\", \"^w.*$\")).columns\n",
    "formula = \"attendance ~ \" + \" + \".join(variables)\n",
    "\n",
    "\n",
    "model = smf.ols(formula=formula, data=df).fit()\n",
    "print(model.summary())"
   ]
  },
  {
   "cell_type": "code",
   "execution_count": null,
   "id": "4f7603c3",
   "metadata": {},
   "outputs": [],
   "source": [
    "# In comparison to january there seems to be more movie attendance during th\n",
    "# e summer, especially in June, July, and oddly November. One could argue the\n",
    "# re is seasonality, but November has an odd peak in movie attendance, which\n",
    "# makes me think maybe attendance goes along with another variable like relea\n",
    "# se date for movies."
   ]
  },
  {
   "cell_type": "code",
   "execution_count": null,
   "id": "18cee083",
   "metadata": {},
   "outputs": [],
   "source": [
    "#B ii\n",
    "variables  = df.select(pl.all().exclude(\"assaults\",\"ln_assaults\",\"wkd_ind\", \"^pr_.*$\", \"^atten.*$\")).columns\n",
    "formula = \"ln_assaults ~ \" + \"attend_v + attend_m + attend_n + \" + \" + \".join(variables) \n",
    "\n",
    "\n",
    "model = smf.ols(formula=formula, data=df).fit()\n",
    "print(model.summary())"
   ]
  },
  {
   "cell_type": "code",
   "execution_count": null,
   "id": "67e0ee58",
   "metadata": {},
   "outputs": [],
   "source": [
    "# When taking into account all the controls, it seems that viewing a stro\n",
    "# ngly violent movie decreases assaults by 0.3 percent, which is significant\n",
    "# since it's associated p-value is below 0.01."
   ]
  },
  {
   "cell_type": "code",
   "execution_count": null,
   "id": "ccf3ab51",
   "metadata": {},
   "outputs": [],
   "source": [
    "#ii\n",
    "print(model.f_test(\"attend_v = attend_m = attend_n = 0\"))"
   ]
  },
  {
   "cell_type": "code",
   "execution_count": null,
   "id": "e7ea12b2",
   "metadata": {},
   "outputs": [],
   "source": [
    "# After doing a test to see if the coefficients of strongly violent, mode\n",
    "# > rately violent, and moderately violent movies have the same affect on assau\n",
    "# > lts, we fail to reject the null hypothesis that they all are equal. This me\n",
    "# > ans that they could be different or equal, but we aren't sure. When focusin\n",
    "# > g on the coefficients and p-values, we see that moderately violent movies a\n",
    "# > re slightly more significant than the other two movie types, which are simi\n",
    "# > lar."
   ]
  },
  {
   "cell_type": "code",
   "execution_count": null,
   "id": "ccffea7b",
   "metadata": {},
   "outputs": [],
   "source": [
    "#iii\n",
    "coeffs = model.params[['attend_v', 'attend_m', 'attend_n']].values\n",
    "cov = model.cov_params().loc[['attend_v', 'attend_m', 'attend_n'], ['attend_v', 'attend_m', 'attend_n']].values\n",
    "\n",
    "delta_x = np.array([6, -2, -1]) \n",
    "\n",
    "delta_ln_assaults = np.dot(delta_x, coeffs)\n",
    "\n",
    "std_error = np.sqrt(np.dot(delta_x, np.dot(cov, delta_x)))\n",
    "\n",
    "lower = delta_ln_assaults - 1.96 * std_error\n",
    "upper = delta_ln_assaults + 1.96 * std_error\n",
    "\n",
    "percent_change = 100 * (np.exp(delta_ln_assaults) - 1)\n",
    "ci_lower = 100 * (np.exp(lower) - 1)\n",
    "ci_upper = 100 * (np.exp(upper) - 1)\n",
    "\n",
    "print(f\"Predicted % change in assaults: {percent_change:.2f}%\")\n",
    "print(f\"95% CI: [{ci_lower:.2f}%, {ci_upper:.2f}%]\")"
   ]
  },
  {
   "cell_type": "code",
   "execution_count": null,
   "id": "bd8c9977",
   "metadata": {},
   "outputs": [],
   "source": [
    "# C i \n",
    "endog = data[['attend_v']]\n",
    "other_controls  = df.select(pl.all().exclude(\"assaults\", \"ln_assaults\", \"wkd_ind\", \"^atten.*$\", \"^pr_.*$\")).columns\n",
    "exog = data[['attend_m', 'attend_n'] + other_controls]\n",
    "instruments = data[[\"pr_attend_v\", \"pr_attend_m\", \"pr_attend_n\"]]\n",
    "ivolsmod = IV2SLS(dependent=data[[\"ln_assaults\"]], endog=endog, exog=exog, instruments=instruments)\n",
    "res_ivols = ivolsmod.fit()\n",
    "print(res_ivols.summary)"
   ]
  },
  {
   "cell_type": "code",
   "execution_count": null,
   "id": "29c4be7b",
   "metadata": {},
   "outputs": [],
   "source": [
    "#ii\n",
    "coeffs = res_ivols.params[['attend_v', 'attend_m', 'attend_n']].values\n",
    "cov = res_ivols.cov.loc[['attend_v', 'attend_m', 'attend_n'], ['attend_v', 'attend_m', 'attend_n']].values\n",
    "\n",
    "delta_x = np.array([6, -2, -1]) \n",
    "\n",
    "delta_ln_assaults = np.dot(delta_x, coeffs)\n",
    "\n",
    "std_error = np.sqrt(np.dot(delta_x, np.dot(cov, delta_x)))\n",
    "\n",
    "lower = delta_ln_assaults - 1.96 * std_error\n",
    "upper = delta_ln_assaults + 1.96 * std_error\n",
    "\n",
    "percent_change = 100 * (np.exp(delta_ln_assaults) - 1)\n",
    "ci_lower = 100 * (np.exp(lower) - 1)\n",
    "ci_upper = 100 * (np.exp(upper) - 1)\n",
    "\n",
    "print(f\"Predicted % change in assaults: {percent_change:.2f}%\")\n",
    "print(f\"95% CI: [{ci_lower:.2f}%, {ci_upper:.2f}%]\")"
   ]
  },
  {
   "cell_type": "code",
   "execution_count": null,
   "id": "63fe2d7b",
   "metadata": {},
   "outputs": [],
   "source": [
    "# D \n",
    "endog = data[['attend_v']]\n",
    "other_controls  = df.select(pl.all().exclude(\"assaults\", \"ln_assaults\", \"wkd_ind\", \"^atten.*$\", \"^pr_.*$\")).columns\n",
    "exog = data[['attend_m', 'attend_n'] + other_controls] \n",
    "instruments = data[[\"attend_v_f\", \"attend_m_f\", \"attend_n_f\", \"attend_v_b\", \"attend_m_b\", \"attend_n_b\"]]\n",
    "ivolsmod = IV2SLS(dependent=data[[\"ln_assaults\"]], endog=endog, exog=exog, instruments=instruments)\n",
    "res_ivols = ivolsmod.fit()\n",
    "print(res_ivols.summary)"
   ]
  },
  {
   "cell_type": "code",
   "execution_count": null,
   "id": "7774c457",
   "metadata": {},
   "outputs": [],
   "source": [
    "coeffs = res_ivols.params[['attend_v', 'attend_m', 'attend_n']].values\n",
    "cov = res_ivols.cov.loc[['attend_v', 'attend_m', 'attend_n'], ['attend_v', 'attend_m', 'attend_n']].values\n",
    "\n",
    "delta_x = np.array([6, -2, -1]) \n",
    "\n",
    "delta_ln_assaults = np.dot(delta_x, coeffs)\n",
    "\n",
    "std_error = np.sqrt(np.dot(delta_x, np.dot(cov, delta_x)))\n",
    "\n",
    "lower = delta_ln_assaults - 1.96 * std_error\n",
    "upper = delta_ln_assaults + 1.96 * std_error\n",
    "\n",
    "percent_change = 100 * (np.exp(delta_ln_assaults) - 1)\n",
    "ci_lower = 100 * (np.exp(lower) - 1)\n",
    "ci_upper = 100 * (np.exp(upper) - 1)\n",
    "\n",
    "print(f\"Predicted % change in assaults: {percent_change:.2f}%\")\n",
    "print(f\"95% CI: [{ci_lower:.2f}%, {ci_upper:.2f}%]\")"
   ]
  }
 ],
 "metadata": {
  "kernelspec": {
   "display_name": ".venv",
   "language": "python",
   "name": "python3"
  },
  "language_info": {
   "codemirror_mode": {
    "name": "ipython",
    "version": 3
   },
   "file_extension": ".py",
   "mimetype": "text/x-python",
   "name": "python",
   "nbconvert_exporter": "python",
   "pygments_lexer": "ipython3",
   "version": "3.10.18"
  }
 },
 "nbformat": 4,
 "nbformat_minor": 5
}
