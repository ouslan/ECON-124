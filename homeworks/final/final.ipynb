{
 "cells": [
  {
   "cell_type": "markdown",
   "id": "d5b3460a",
   "metadata": {},
   "source": [
    "**Author**:Alejandro M.Ouslan"
   ]
  },
  {
   "cell_type": "markdown",
   "id": "34ff9025",
   "metadata": {},
   "source": [
    "# Probem\n",
    "\n",
    "## Problem A"
   ]
  },
  {
   "cell_type": "code",
   "execution_count": null,
   "id": "7777dd20",
   "metadata": {},
   "outputs": [],
   "source": [
    "import polars as pl\n",
    "import matplotlib.pyplot as plt\n",
    "import numpy as np\n",
    "import pandas as pd\n",
    "from statsmodels.graphics.tsaplots import plot_acf, plot_pacf\n",
    "import statsmodels.formula.api as smf\n",
    "from statsmodels.tsa.ar_model import AutoReg\n",
    "from statsmodels.tsa.stattools import acf"
   ]
  },
  {
   "cell_type": "code",
   "execution_count": null,
   "id": "dbf9a1ca",
   "metadata": {},
   "outputs": [],
   "source": [
    "df = pl.read_excel(\"data/us_macro_quarterly-1.xlsx\")\n",
    "df =df.with_columns(\n",
    "        date=pl.col(\"column_0\").str.replace(\":0\", \"Q\"),\n",
    "        PCECTPI2=pl.col(\"PCECTPI\").shift(1)\n",
    "\n",
    ")\n",
    "df = df.with_columns(\n",
    "        infl=400*(pl.col(\"PCECTPI\").log() - pl.col(\"PCECTPI2\").log())\n",
    ")\n",
    "df"
   ]
  },
  {
   "cell_type": "code",
   "execution_count": null,
   "id": "4ea11b2d",
   "metadata": {},
   "outputs": [],
   "source": [
    "data = df.to_pandas()\n",
    "data['date'] = pd.PeriodIndex(data['date'], freq='Q')\n",
    "data = data[(data[\"date\"] >= \"1963Q1\") & (data[\"date\"] <= \"2012Q4\")]\n",
    "data.set_index('date', inplace=True)"
   ]
  },
  {
   "cell_type": "markdown",
   "id": "a0d23994",
   "metadata": {},
   "source": [
    "## Problem B"
   ]
  },
  {
   "cell_type": "code",
   "execution_count": null,
   "id": "c890387f",
   "metadata": {},
   "outputs": [],
   "source": [
    "plt.figure(figsize=(8, 5))\n",
    "plt.plot(data.index.to_timestamp(), data['PCECTPI'], marker='o')\n",
    "plt.title('Quarterly Data')\n",
    "plt.xlabel('Date')\n",
    "plt.ylabel('PCECTPI')\n",
    "plt.grid(True)\n",
    "plt.tight_layout()\n",
    "plt.show()"
   ]
  },
  {
   "cell_type": "markdown",
   "id": "c54f7107",
   "metadata": {},
   "source": [
    "- The data seems to follow a trend but there is some stochastic elemnts \n",
    "\n",
    "## Probem C"
   ]
  },
  {
   "cell_type": "code",
   "execution_count": null,
   "id": "229b8058",
   "metadata": {},
   "outputs": [],
   "source": [
    "acf(data['PCECTPI'], nlags=4)"
   ]
  },
  {
   "cell_type": "code",
   "execution_count": null,
   "id": "910d2b23",
   "metadata": {},
   "outputs": [],
   "source": [
    "fig = plot_acf(data['PCECTPI'], lags=10)\n",
    "plt.show()\n",
    "plot_pacf(data['PCECTPI'], lags=15)\n",
    "plt.show()"
   ]
  },
  {
   "cell_type": "markdown",
   "id": "19969b03",
   "metadata": {},
   "source": [
    "## Problem D\n"
   ]
  },
  {
   "cell_type": "code",
   "execution_count": null,
   "id": "f1724d5a",
   "metadata": {},
   "outputs": [],
   "source": [
    "data[\"pch\"] = data[\"infl\"].pct_change()\n",
    "data[\"pch2\"] = data[\"pch\"].shift(1)\n",
    "data"
   ]
  },
  {
   "cell_type": "code",
   "execution_count": null,
   "id": "c86c5382",
   "metadata": {},
   "outputs": [],
   "source": [
    "results  = smf.ols(\"pch ~ pch2\", data=data).fit()\n",
    "print(results.summary())"
   ]
  },
  {
   "cell_type": "markdown",
   "id": "d1014b59",
   "metadata": {},
   "source": [
    "- INFO: Missing the interpretation \n",
    "\n",
    "## Problem E "
   ]
  },
  {
   "cell_type": "code",
   "execution_count": null,
   "id": "bd639404",
   "metadata": {},
   "outputs": [],
   "source": [
    "res = AutoReg(data['pch'].dropna(), lags=1).fit()\n",
    "print(res.summary())"
   ]
  },
  {
   "cell_type": "code",
   "execution_count": null,
   "id": "cc34143e",
   "metadata": {},
   "outputs": [],
   "source": [
    "res = AutoReg(data['pch'].dropna(), lags=2).fit()\n",
    "print(res.summary())"
   ]
  },
  {
   "cell_type": "markdown",
   "id": "aa4fdfb8",
   "metadata": {},
   "source": [
    "- INFO: Missing intrepretation \n",
    "\n",
    "## Problem F"
   ]
  },
  {
   "cell_type": "code",
   "execution_count": null,
   "id": "19a0f94e",
   "metadata": {},
   "outputs": [],
   "source": [
    "for i in range(0,9):\n",
    "    test = res = AutoReg(data['pch'].dropna(), lags=i).fit()\n",
    "    print(f\"lag {i} : {test.bic}\")"
   ]
  },
  {
   "cell_type": "markdown",
   "id": "e934f61c",
   "metadata": {},
   "source": [
    "- Looking at the AIC the the chocen lag is 0\n",
    "\n",
    "## Program G"
   ]
  },
  {
   "cell_type": "code",
   "execution_count": null,
   "id": "edc09d2e",
   "metadata": {},
   "outputs": [],
   "source": [
    "data"
   ]
  },
  {
   "cell_type": "code",
   "execution_count": null,
   "id": "ca677bc5",
   "metadata": {},
   "outputs": [],
   "source": [
    "y = data['pch'].dropna()\n",
    "res = AutoReg(data['pch'].dropna(), lags=2, trend=\"n\").fit()\n",
    "forecast_ar = res.predict(start=res.model._hold_back, end=len(y)+1)\n",
    "forecast_ar.tail(1)"
   ]
  },
  {
   "cell_type": "markdown",
   "id": "340ace20",
   "metadata": {},
   "source": [
    "# Problem \n",
    "\n",
    "## Problem A\n",
    "\n",
    "- The formula interpretation is incorrect since a monthly percentage change in IP would use\n",
    "  $\\frac{(IP_{t} - IP_{t-1})}{IP_{t-1}}$, not $\\frac{ln(IP_{t})}{IP_{t-1}}$. What the current model does is calculate a ratio between the current and prior month and log's it, which isn't the monthly change. \n",
    "\n",
    "## Problem B\n",
    "\n",
    "- $$Y = 0.787 + 0.052(101.359) + 0.185(101.034) + 0.234(100.374) + 0.164(101.196) = 64.83$$\n",
    "\n",
    "## Problem C\n",
    "\n",
    "- Let N = 324 (27 years times 12 for total months)\n",
    "The formulas for AIC (Akaike Information Criterion) and BIC (Bayesian Information Criterion) are:\n",
    "\n",
    "- **AIC** = ln(SSR / N) + (2 * AR(X + 1)) / N  \n",
    "- **BIC** = ln(SSR / N) + (ln(N) * AR(X + 1)) / N  \n",
    "\n",
    "Where:  \n",
    "- SSR = Sum of Squared Residuals  \n",
    "- N = Number of observations  \n",
    "- AR = Autoregressive model order  \n",
    "\n",
    "\n",
    "Given:\n",
    "- SSR = 19,533  \n",
    "- N = 324  \n",
    "- AR = 1  \n",
    "\n",
    "Then:\n",
    "\n",
    "- **BIC** = ln(19,533 / 324) + (ln(324) * 1) / 324  \n",
    "- **AIC** = ln(19,533 / 324) + 2 / 324  \n",
    "\n",
    "\n",
    "| AR | SSR    | BIC         | AIC         |\n",
    "|----|--------|-------------|-------------|\n",
    "| 0  | 19,533 | 4.116958907 | 4.105289946 |\n",
    "| 1  | 18,643 | 4.088166106 | 4.064828183 |\n",
    "| 2  | 17,377 | 4.035684659 | 4.000677774 |\n",
    "| 3  | 16,285 | 3.988623406 | 3.941947560 |\n",
    "| 4  | 15,842 | 3.978885409 | 3.920540602 |\n",
    "| 5  | 15,824 | 3.995590344 | 3.925576575 |\n",
    "| 6  | 15,824 | 4.013432145 | 3.931749415 |\n",
    "\n",
    "\n",
    "The results only slightly differ when using AIC versus BIC, but not dramatically.\n",
    "\n",
    "# Probelem \n",
    "\n",
    "## Problem A"
   ]
  },
  {
   "cell_type": "code",
   "execution_count": null,
   "id": "ceb3a90c",
   "metadata": {},
   "outputs": [],
   "source": [
    "def simulate_ar3_process(beta, n, reps):\n",
    "    means = []\n",
    "    cov_lag1 = []\n",
    "    cov_lag2 = []\n",
    "    cov_lag3 = []\n",
    "    var_list = []\n",
    "\n",
    "    for _ in range(reps):\n",
    "        epsilon = np.random.normal(0, 1, n)\n",
    "        y = np.zeros(n)\n",
    "        for t in range(3, n):\n",
    "            y[t] = beta * y[t-3] + epsilon[t]\n",
    "\n",
    "        means.append(np.mean(y))\n",
    "        y_centered = y - np.mean(y)\n",
    "\n",
    "        var_list.append(np.mean(y_centered ** 2))\n",
    "        cov_lag1.append(np.mean(y_centered[1:] * y_centered[:-1]))  # lag 1\n",
    "        cov_lag2.append(np.mean(y_centered[2:] * y_centered[:-2]))  # lag 2\n",
    "        cov_lag3.append(np.mean(y_centered[3:] * y_centered[:-3]))  # lag 3\n",
    "\n",
    "    mean_of_means = np.mean(means)\n",
    "    std_of_means = np.std(means, ddof=1)\n",
    "\n",
    "    avg_var = np.mean(var_list)\n",
    "    avg_cov_lag1 = np.mean(cov_lag1)\n",
    "    avg_cov_lag2 = np.mean(cov_lag2)\n",
    "    avg_cov_lag3 = np.mean(cov_lag3)\n",
    "\n",
    "    # Compute autocorrelations\n",
    "    rho_1 = avg_cov_lag1 / avg_var\n",
    "    rho_2 = avg_cov_lag2 / avg_var\n",
    "    rho_3 = avg_cov_lag3 / avg_var\n",
    "\n",
    "    return mean_of_means, std_of_means,avg_cov_lag1, avg_cov_lag2, avg_cov_lag3, rho_1, rho_2, rho_3\n",
    "\n",
    "# Example usage\n",
    "beta = 0.7\n",
    "n = 1000\n",
    "reps = 10000\n",
    "\n",
    "mean_estimate, std_estimate, cov1, cov2, cov3, acf1, acf2, acf3 = simulate_ar3_process(beta, n, reps)"
   ]
  },
  {
   "cell_type": "markdown",
   "id": "adc7e417",
   "metadata": {},
   "source": [
    "## Problem B"
   ]
  },
  {
   "cell_type": "code",
   "execution_count": null,
   "id": "aeb1cefc",
   "metadata": {},
   "outputs": [],
   "source": [
    "\n",
    "print(f\"Std dev of E[y_t]: {std_estimate:.6f}\")\n"
   ]
  },
  {
   "cell_type": "markdown",
   "id": "45b27d3a",
   "metadata": {},
   "source": [
    "## Problem C"
   ]
  },
  {
   "cell_type": "code",
   "execution_count": null,
   "id": "7a284862",
   "metadata": {},
   "outputs": [],
   "source": [
    "print(f\"Estimated Covariance lag 1: {cov1:.6f}\")\n",
    "print(f\"Estimated Covariance lag 2: {cov2:.6f}\")\n",
    "print(f\"Estimated Covariance lag 3: {cov3:.6f}\")"
   ]
  },
  {
   "cell_type": "markdown",
   "id": "fba7ad09",
   "metadata": {},
   "source": [
    "## Problem D "
   ]
  },
  {
   "cell_type": "code",
   "execution_count": null,
   "id": "830aa235",
   "metadata": {},
   "outputs": [],
   "source": [
    "\n",
    "print(f\"Estimated Autocorrelation lag 1: {acf1:.6f}\")\n",
    "print(f\"Estimated Autocorrelation lag 2: {acf2:.6f}\")\n",
    "print(f\"Estimated Autocorrelation lag 3: {acf3:.6f}\")"
   ]
  },
  {
   "cell_type": "markdown",
   "id": "10e16cb5",
   "metadata": {},
   "source": [
    "# Problem 4\n",
    "\n",
    "## Problem A \n",
    "\n",
    "- $y_t = c + \\phi_1 y_{t-1} + \\epsilon_t + \\theta_1 \\epsilon_{t-1} + \\theta_2 \\epsilon{t-2}$\n",
    "\n",
    "## Problem B \n",
    "\n",
    "- $\\hat{y}_{t+1|t} = \\beta y_{t-2}$\n",
    "\n",
    "\n",
    "## Problem C \n",
    "- $\\lim_{h \\to \\infty} \\hat{y}_{t+h|t} = 0$\n",
    "\n",
    "## Problem D \n",
    "\n",
    "-$y_t = c + \\phi_1 y_{t-1} + \\phi_2 y_{t-2} + \\phi_3 y_{t-3} + \\epsilon_{t}$\n",
    "- The model expresses the current data point as a linear combination of the last previous 3 values plus an error term\n",
    "\n",
    "# Problem \n",
    "\n",
    "## Problem A"
   ]
  },
  {
   "cell_type": "code",
   "execution_count": null,
   "id": "3cbf8a2b",
   "metadata": {},
   "outputs": [],
   "source": [
    "T = 100\n",
    "num_simulations = 1000\n",
    "rng = np.random.default_rng(787)\n",
    "\n",
    "r_squared_vals = []\n",
    "t_stats = []\n",
    "\n",
    "for i in range(num_simulations):\n",
    "    e = rng.normal(0, 1, T)\n",
    "    a = rng.normal(0, 1, T)\n",
    "\n",
    "    Y = np.zeros(T)\n",
    "    X = np.zeros(T)\n",
    "\n",
    "    Y[0] = e[0]\n",
    "    X[0] = a[0]\n",
    "\n",
    "    for t in range(1, T):\n",
    "        Y[t] = Y[t - 1] + e[t]\n",
    "        X[t] = X[t - 1] + a[t]\n",
    "\n",
    "    df = pd.DataFrame({'Y': Y, 'X': X})\n",
    "    results = smf.ols(\"Y ~ X\", data=df).fit()\n",
    "    \n",
    "    r_squared_vals.append(results.rsquared)\n",
    "    t_stats.append(results.tvalues['X'])\n",
    "\n",
    "r_squared_vals = np.array(r_squared_vals)\n",
    "t_stats = np.array(t_stats)\n",
    "\n",
    "\n",
    "plt.figure(figsize=(12, 5))\n",
    "\n",
    "plt.subplot(1, 2, 1)\n",
    "plt.hist(r_squared_vals, bins=30, edgecolor='k', alpha=0.7)\n",
    "plt.title(\"Histogram of R²\")\n",
    "plt.xlabel(\"R²\")\n",
    "plt.ylabel(\"Frequency\")\n",
    "\n",
    "plt.subplot(1, 2, 2)\n",
    "plt.hist(t_stats, bins=30, edgecolor='k', alpha=0.7)\n",
    "plt.title(\"Histogram of t-statistics\")\n",
    "plt.xlabel(\"t-statistic\")\n",
    "plt.ylabel(\"Frequency\")\n",
    "\n",
    "plt.tight_layout()\n",
    "plt.show()\n",
    "\n",
    "r2_percentiles = np.percentile(r_squared_vals, [5, 50, 95])\n",
    "t_stat_percentiles = np.percentile(t_stats, [5, 50, 95])\n",
    "\n",
    "\n",
    "t_stat_exceeds_1_96 = np.mean(np.abs(t_stats) > 1.96)\n",
    "\n",
    "\n",
    "print(\"R² percentiles (5%, 50%, 95%):\", r2_percentiles)\n",
    "print(\"t-statistic percentiles (5%, 50%, 95%):\", t_stat_percentiles)\n",
    "print(f\"Fraction of |t| > 1.96: {t_stat_exceeds_1_96:.4f}\")\n"
   ]
  }
 ],
 "metadata": {
  "kernelspec": {
   "display_name": ".venv",
   "language": "python",
   "name": "python3"
  },
  "language_info": {
   "codemirror_mode": {
    "name": "ipython",
    "version": 3
   },
   "file_extension": ".py",
   "mimetype": "text/x-python",
   "name": "python",
   "nbconvert_exporter": "python",
   "pygments_lexer": "ipython3",
   "version": "3.10.18"
  }
 },
 "nbformat": 4,
 "nbformat_minor": 5
}
