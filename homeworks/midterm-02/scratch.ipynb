{
 "cells": [
  {
   "cell_type": "code",
   "execution_count": null,
   "id": "f3973bc0",
   "metadata": {},
   "outputs": [],
   "source": [
    "import polars as pl\n",
    "import numpy as np\n",
    "import statsmodels.formula.api as smf\n",
    "from linearmodels.iv import IV2SLS\n",
    "import statsmodels.api as sm\n",
    "import pandas as pd"
   ]
  },
  {
   "cell_type": "code",
   "execution_count": null,
   "id": "00427dc0",
   "metadata": {},
   "outputs": [],
   "source": [
    "# Question \n",
    "#1a\n",
    "df = pl.read_excel(\"data/fertil2.xlsx\")\n",
    "df = df.select(\n",
    "    pl.col(\"children\", \"age\", \"educ\", \"electric\", \"urban\",'spirit','protest','catholic')\n",
    ")\n",
    "df =df.with_columns(\n",
    "    age2=pl.col(\"age\")**2\n",
    ")\n",
    "df = df.to_pandas()"
   ]
  },
  {
   "cell_type": "code",
   "execution_count": null,
   "id": "1ab15834",
   "metadata": {},
   "outputs": [],
   "source": [
    "model = smf.ols(\"children ~ age + age2 + educ + electric + urban\", data=df).fit()\n",
    "print(model.summary())"
   ]
  },
  {
   "cell_type": "code",
   "execution_count": null,
   "id": "98889fd8",
   "metadata": {},
   "outputs": [],
   "source": [
    "model = smf.ols(\"children ~ age + age2 + educ + electric + urban\", data=df).fit(cov_type='HC1')\n",
    "print(model.summary())"
   ]
  },
  {
   "cell_type": "code",
   "execution_count": null,
   "id": "e4ed19c9",
   "metadata": {},
   "outputs": [],
   "source": [
    "#It seems that the robust standard errors are generally larger than the non\n",
    "#robust ones, but not neccesarily always the case."
   ]
  },
  {
   "cell_type": "code",
   "execution_count": null,
   "id": "019b3d6f",
   "metadata": {},
   "outputs": [],
   "source": [
    "#1b\n",
    "model = smf.ols(\"children ~ age + age2 + educ + electric + urban + spirit + protest + catholic\", data=df).fit()\n",
    "print(model.summary())\n",
    "print(model.f_test(\"spirit = protest = catholic = 0\"))"
   ]
  },
  {
   "cell_type": "code",
   "execution_count": null,
   "id": "e4431f04",
   "metadata": {},
   "outputs": [],
   "source": [
    "model = smf.ols(\"children ~ age + age2 + educ + electric + urban + spirit + protest + catholic\", data=df).fit(cov_type='HC1')\n",
    "print(model.summary())\n",
    "print(model.f_test(\"spirit = protest = catholic = 0\"))"
   ]
  },
  {
   "cell_type": "code",
   "execution_count": null,
   "id": "c637188e",
   "metadata": {},
   "outputs": [],
   "source": [
    "#The p-values for the non-robust test is 0.0864, while the p-value for the\n",
    "#robust test is 0.0911. It seems that robust tests are less likely to report\n",
    "#something is significant, especially assuming standard errors are greater\n",
    "#than non-robust ones."
   ]
  },
  {
   "cell_type": "code",
   "execution_count": null,
   "id": "5079849c",
   "metadata": {},
   "outputs": [],
   "source": [
    "#1c\n",
    "df['yhat'] = model.fittedvalues\n",
    "df[\"u_hat\"] = model.resid\n",
    "df[\"u_hat2\"] = df[\"u_hat\"]**2\n",
    "df['yhat2'] = df['yhat']**2\n",
    "df"
   ]
  },
  {
   "cell_type": "code",
   "execution_count": null,
   "id": "f6be2e83",
   "metadata": {},
   "outputs": [],
   "source": [
    "model = smf.ols(\"u_hat2 ~ yhat + yhat2\", data=df).fit()\n",
    "print(model.summary())\n",
    "print(model.f_test(\"yhat = yhat2 = 0\"))"
   ]
  },
  {
   "cell_type": "code",
   "execution_count": null,
   "id": "2c786cc1",
   "metadata": {},
   "outputs": [],
   "source": [
    "# Question 2 \n",
    "# A i\n",
    "df = pl.read_excel(\"data/Movies.xlsx\")\n",
    "df = df.select(\n",
    "    pl.all().exclude(\"month1\", \"year1\"),\n",
    "    ln_assaults=pl.col(\"assaults\").log(),\n",
    "    attendance=pl.col(\"attend_v\") + pl.col(\"attend_m\") + pl.col(\"attend_n\")\n",
    ")\n",
    "data = df.to_pandas()"
   ]
  },
  {
   "cell_type": "code",
   "execution_count": null,
   "id": "218d28e5",
   "metadata": {},
   "outputs": [],
   "source": [
    "variables  = df.select(pl.all().exclude(\"assaults\",\"ln_assaults\", \"^atten.*$\", \"^h_.*$\", \"^pr_.*$\", \"^w.*$\")).columns\n",
    "formula = \"ln_assaults ~ \" + \" + \".join(variables)\n",
    "\n",
    "\n",
    "model = smf.ols(formula=formula, data=df).fit()\n",
    "print(model.summary())"
   ]
  },
  {
   "cell_type": "code",
   "execution_count": null,
   "id": "fe878b87",
   "metadata": {},
   "outputs": [],
   "source": [
    "# In comparison to January there seems to be more assaults during late sprin\n",
    "#and early fall, especially in the summer. (May to Sepetember) So there do\n",
    "# seem to be some seasonality as assaults are lower during winter months."
   ]
  },
  {
   "cell_type": "code",
   "execution_count": null,
   "id": "ce836ae6",
   "metadata": {},
   "outputs": [],
   "source": [
    "variables  = df.select(pl.all().exclude(\"assaults\",\"ln_assaults\", \"^atten.*$\", \"^h_.*$\", \"^pr_.*$\", \"^w.*$\")).columns\n",
    "formula = \"attendance ~ \" + \" + \".join(variables)\n",
    "\n",
    "\n",
    "model = smf.ols(formula=formula, data=df).fit()\n",
    "print(model.summary())"
   ]
  },
  {
   "cell_type": "code",
   "execution_count": null,
   "id": "5bf477e6",
   "metadata": {},
   "outputs": [],
   "source": [
    "# In comparison to january there seems to be more movie attendance during th\n",
    "# e summer, especially in June, July, and oddly November. One could argue the\n",
    "# re is seasonality, but November has an odd peak in movie attendance, which\n",
    "# makes me think maybe attendance goes along with another variable like relea\n",
    "# se date for movies."
   ]
  },
  {
   "cell_type": "code",
   "execution_count": null,
   "id": "68e126dd",
   "metadata": {},
   "outputs": [],
   "source": [
    "#B ii\n",
    "variables  = df.select(pl.all().exclude(\"assaults\",\"ln_assaults\",\"wkd_ind\", \"^pr_.*$\", \"^atten.*$\")).columns\n",
    "formula = \"ln_assaults ~ \" + \"attend_v + attend_m + attend_n + \" + \" + \".join(variables) \n",
    "\n",
    "\n",
    "model = smf.ols(formula=formula, data=df).fit()\n",
    "print(model.summary())"
   ]
  },
  {
   "cell_type": "code",
   "execution_count": null,
   "id": "3c20a48f",
   "metadata": {},
   "outputs": [],
   "source": [
    "# When taking into account all the controls, it seems that viewing a stro\n",
    "# ngly violent movie decreases assaults by 0.3 percent, which is significant\n",
    "# since it's associated p-value is below 0.01."
   ]
  },
  {
   "cell_type": "code",
   "execution_count": null,
   "id": "a8f2aa8f",
   "metadata": {},
   "outputs": [],
   "source": [
    "#ii\n",
    "print(model.f_test(\"attend_v = attend_m = attend_n = 0\"))"
   ]
  },
  {
   "cell_type": "code",
   "execution_count": null,
   "id": "2dd53932",
   "metadata": {},
   "outputs": [],
   "source": [
    "# After doing a test to see if the coefficients of strongly violent, mode\n",
    "# > rately violent, and moderately violent movies have the same affect on assau\n",
    "# > lts, we fail to reject the null hypothesis that they all are equal. This me\n",
    "# > ans that they could be different or equal, but we aren't sure. When focusin\n",
    "# > g on the coefficients and p-values, we see that moderately violent movies a\n",
    "# > re slightly more significant than the other two movie types, which are simi\n",
    "# > lar."
   ]
  },
  {
   "cell_type": "code",
   "execution_count": null,
   "id": "615e1848",
   "metadata": {},
   "outputs": [],
   "source": [
    "#iii\n",
    "coeffs = model.params[['attend_v', 'attend_m', 'attend_n']].values\n",
    "cov = model.cov_params().loc[['attend_v', 'attend_m', 'attend_n'], ['attend_v', 'attend_m', 'attend_n']].values\n",
    "\n",
    "delta_x = np.array([6, -2, -1]) \n",
    "\n",
    "delta_ln_assaults = np.dot(delta_x, coeffs)\n",
    "\n",
    "std_error = np.sqrt(np.dot(delta_x, np.dot(cov, delta_x)))\n",
    "\n",
    "lower = delta_ln_assaults - 1.96 * std_error\n",
    "upper = delta_ln_assaults + 1.96 * std_error\n",
    "\n",
    "percent_change = 100 * (np.exp(delta_ln_assaults) - 1)\n",
    "ci_lower = 100 * (np.exp(lower) - 1)\n",
    "ci_upper = 100 * (np.exp(upper) - 1)\n",
    "\n",
    "print(f\"Predicted % change in assaults: {percent_change:.2f}%\")\n",
    "print(f\"95% CI: [{ci_lower:.2f}%, {ci_upper:.2f}%]\")"
   ]
  },
  {
   "cell_type": "code",
   "execution_count": null,
   "id": "2508b93c",
   "metadata": {},
   "outputs": [],
   "source": [
    "# C i \n",
    "endog = data[['attend_v']]\n",
    "other_controls  = df.select(pl.all().exclude(\"assaults\", \"ln_assaults\", \"wkd_ind\", \"^atten.*$\", \"^pr_.*$\")).columns\n",
    "exog = data[['attend_m', 'attend_n'] + other_controls]\n",
    "instruments = data[[\"pr_attend_v\", \"pr_attend_m\", \"pr_attend_n\"]]\n",
    "ivolsmod = IV2SLS(dependent=data[[\"ln_assaults\"]], endog=endog, exog=exog, instruments=instruments)\n",
    "res_ivols = ivolsmod.fit()\n",
    "print(res_ivols.summary)"
   ]
  },
  {
   "cell_type": "code",
   "execution_count": null,
   "id": "f41a9a92",
   "metadata": {},
   "outputs": [],
   "source": [
    "model.cov_params()"
   ]
  },
  {
   "cell_type": "code",
   "execution_count": null,
   "id": "d79e2a9b",
   "metadata": {},
   "outputs": [],
   "source": [
    "res_ivols.cov"
   ]
  },
  {
   "cell_type": "code",
   "execution_count": null,
   "id": "aa0999d4",
   "metadata": {},
   "outputs": [],
   "source": [
    "#ii\n",
    "coeffs = res_ivols.params[['attend_v', 'attend_m', 'attend_n']].values\n",
    "cov = res_ivols.cov.loc[['attend_v', 'attend_m', 'attend_n'], ['attend_v', 'attend_m', 'attend_n']].values\n",
    "\n",
    "delta_x = np.array([6, -2, -1]) \n",
    "\n",
    "delta_ln_assaults = np.dot(delta_x, coeffs)\n",
    "\n",
    "std_error = np.sqrt(np.dot(delta_x, np.dot(cov, delta_x)))\n",
    "\n",
    "lower = delta_ln_assaults - 1.96 * std_error\n",
    "upper = delta_ln_assaults + 1.96 * std_error\n",
    "\n",
    "percent_change = 100 * (np.exp(delta_ln_assaults) - 1)\n",
    "ci_lower = 100 * (np.exp(lower) - 1)\n",
    "ci_upper = 100 * (np.exp(upper) - 1)\n",
    "\n",
    "print(f\"Predicted % change in assaults: {percent_change:.2f}%\")\n",
    "print(f\"95% CI: [{ci_lower:.2f}%, {ci_upper:.2f}%]\")"
   ]
  },
  {
   "cell_type": "code",
   "execution_count": null,
   "id": "5eb0a69e",
   "metadata": {},
   "outputs": [],
   "source": [
    "coeffs = res_ivols.params[['pr_attend_v', 'pr_attend_m', 'pr_attend_n']].values\n",
    "cov = model.cov_params().loc[['pr_attend_v', 'pr_attend_m', 'pr_attend_n'], ['pr_attend_v', 'pr_attend_m', 'pr_attend_n']].values\n",
    "\n",
    "delta_x = np.array([6, -2, -1]) \n",
    "\n",
    "delta_ln_assaults = np.dot(delta_x, coeffs)\n",
    "\n",
    "std_error = np.sqrt(np.dot(delta_x, np.dot(cov, delta_x)))\n",
    "\n",
    "lower = delta_ln_assaults - 1.96 * std_error\n",
    "upper = delta_ln_assaults + 1.96 * std_error\n",
    "\n",
    "percent_change = 100 * (np.exp(delta_ln_assaults) - 1)\n",
    "ci_lower = 100 * (np.exp(lower) - 1)\n",
    "ci_upper = 100 * (np.exp(upper) - 1)\n",
    "\n",
    "print(f\"Predicted % change in assaults: {percent_change:.2f}%\")\n",
    "print(f\"95% CI: [{ci_lower:.2f}%, {ci_upper:.2f}%]\")"
   ]
  },
  {
   "cell_type": "code",
   "execution_count": null,
   "id": "93634fed",
   "metadata": {},
   "outputs": [],
   "source": [
    "# D \n",
    "endog = data[['attend_v']]\n",
    "other_controls  = df.select(pl.all().exclude(\"assaults\", \"ln_assaults\", \"wkd_ind\", \"^atten.*$\", \"^pr_.*$\")).columns\n",
    "exog = data[['attend_m', 'attend_n'] + other_controls] \n",
    "instruments = data[[\"attend_v_f\", \"attend_m_f\", \"attend_n_f\", \"attend_v_b\", \"attend_m_b\", \"attend_n_b\"]]\n",
    "ivolsmod = IV2SLS(dependent=data[[\"ln_assaults\"]], endog=endog, exog=exog, instruments=instruments)\n",
    "res_ivols = ivolsmod.fit()\n",
    "# sm_ols = results.params\n",
    "# sm_ols.name = \"sm\"\n",
    "# print(pd.concat([res_ivols.params, sm_ols], axis=1))\n",
    "print(res_ivols.summary)"
   ]
  },
  {
   "cell_type": "code",
   "execution_count": null,
   "id": "cac68610",
   "metadata": {},
   "outputs": [],
   "source": [
    "coeffs = res_ivols.params[['attend_v', 'attend_m', 'attend_n']].values\n",
    "cov = res_ivols.cov.loc[['attend_v', 'attend_m', 'attend_n'], ['attend_v', 'attend_m', 'attend_n']].values\n",
    "\n",
    "delta_x = np.array([6, -2, -1]) \n",
    "\n",
    "delta_ln_assaults = np.dot(delta_x, coeffs)\n",
    "\n",
    "std_error = np.sqrt(np.dot(delta_x, np.dot(cov, delta_x)))\n",
    "\n",
    "lower = delta_ln_assaults - 1.96 * std_error\n",
    "upper = delta_ln_assaults + 1.96 * std_error\n",
    "\n",
    "percent_change = 100 * (np.exp(delta_ln_assaults) - 1)\n",
    "ci_lower = 100 * (np.exp(lower) - 1)\n",
    "ci_upper = 100 * (np.exp(upper) - 1)\n",
    "\n",
    "print(f\"Predicted % change in assaults: {percent_change:.2f}%\")\n",
    "print(f\"95% CI: [{ci_lower:.2f}%, {ci_upper:.2f}%]\")"
   ]
  },
  {
   "cell_type": "code",
   "execution_count": null,
   "id": "be4591d2",
   "metadata": {},
   "outputs": [],
   "source": [
    "# Question 3\n",
    "\n",
    "df1 = pl.read_excel(\"data/timeinvar-1.xlsx\")\n",
    "df2 = pl.read_excel(\"data/timevar-1.xlsx\")\n",
    "df = df1.join(df2, on=\"id\", how=\"left\",validate=\"1:m\")\n",
    "df"
   ]
  }
 ],
 "metadata": {
  "kernelspec": {
   "display_name": ".venv",
   "language": "python",
   "name": "python3"
  },
  "language_info": {
   "codemirror_mode": {
    "name": "ipython",
    "version": 3
   },
   "file_extension": ".py",
   "mimetype": "text/x-python",
   "name": "python",
   "nbconvert_exporter": "python",
   "pygments_lexer": "ipython3",
   "version": "3.10.18"
  }
 },
 "nbformat": 4,
 "nbformat_minor": 5
}
