{
 "cells": [
  {
   "cell_type": "code",
   "execution_count": null,
   "id": "137e608c",
   "metadata": {},
   "outputs": [],
   "source": [
    "import polars as pl\n",
    "import statsmodels.formula.api as smf\n",
    "from linearmodels.iv import IV2SLS\n",
    "import matplotlib.pyplot as plt\n",
    "import numpy as np"
   ]
  },
  {
   "cell_type": "code",
   "execution_count": null,
   "id": "cdcd2bd1",
   "metadata": {},
   "outputs": [],
   "source": [
    "# Question 3\n",
    "\n",
    "df1 = pl.read_excel(\"data/timeinvar-1.xlsx\")\n",
    "df2 = pl.read_excel(\"data/timevar-1.xlsx\")\n",
    "df = df1.join(df2, on=\"id\", how=\"left\",validate=\"1:m\")\n",
    "df = df.with_columns(\n",
    "    hs=pl.when(pl.col(\"edu\") <= 12).then(1).otherwise(0),\n",
    "    col=pl.when((pl.col(\"edu\") > 12) & (pl.col(\"edu\") <= 16)).then(1).otherwise(0),\n",
    "    tao1=pl.when((pl.col(\"edu\") <= 16)).then(pl.col(\"edu\")).otherwise(0),\n",
    "    tao2=pl.when((pl.col(\"edu\") > 16)).then(pl.col(\"edu\")).otherwise(0),\n",
    "    grad=pl.when(pl.col(\"edu\") > 16).then(1).otherwise(0),\n",
    "    eduab=pl.col(\"edu\") * pl.col(\"ability\"),\n",
    "    edu2=pl.col(\"edu\")**2,\n",
    ")\n",
    "data = df.to_pandas()\n",
    "df.columns"
   ]
  },
  {
   "cell_type": "code",
   "execution_count": null,
   "id": "dbe9ce38",
   "metadata": {},
   "outputs": [],
   "source": [
    "formula  = \"lwage ~ edu + ability + exper + meduc + feduc + brokenhome + siblings\"\n",
    "\n",
    "\n",
    "model = smf.ols(formula=formula, data=data).fit()\n",
    "print(model.summary())"
   ]
  },
  {
   "cell_type": "code",
   "execution_count": null,
   "id": "ad8dd05a",
   "metadata": {},
   "outputs": [],
   "source": [
    "formula  = \"lwage ~ col + grad + ability + exper + meduc + feduc + brokenhome + siblings\"\n",
    "\n",
    "\n",
    "model = smf.ols(formula=formula, data=data).fit()\n",
    "print(model.summary())"
   ]
  },
  {
   "cell_type": "code",
   "execution_count": null,
   "id": "2c359df5",
   "metadata": {},
   "outputs": [],
   "source": [
    "# b\n",
    "\n",
    "formula  = \"lwage ~ edu + edu2 + ability + exper + meduc + feduc + brokenhome + siblings\"\n",
    "\n",
    "\n",
    "model = smf.ols(formula=formula, data=data).fit()\n",
    "print(model.summary())"
   ]
  },
  {
   "cell_type": "code",
   "execution_count": null,
   "id": "0975d0e6",
   "metadata": {},
   "outputs": [],
   "source": [
    "# c\n",
    "\n",
    "formula  = \"lwage ~ edu + eduab + ability + exper + meduc + feduc + brokenhome + siblings\"\n",
    "\n",
    "model = smf.ols(formula=formula, data=data).fit(cov_type='HC1')\n",
    "\n",
    "print(model.summary())"
   ]
  },
  {
   "cell_type": "code",
   "execution_count": null,
   "id": "0af009d2",
   "metadata": {},
   "outputs": [],
   "source": [
    "data\n",
    "plt.scatter(data[\"edu\"], data[\"lwage\"])\n",
    "plt.show()"
   ]
  },
  {
   "cell_type": "code",
   "execution_count": null,
   "id": "17d3f1a5",
   "metadata": {},
   "outputs": [],
   "source": [
    "coeffs = model.params[['edu', 'educab']].values\n",
    "cov = model.cov_params().loc[['edu', 'educab'], ['edu', 'educab']].values\n",
    "\n",
    "delta_x = np.array([1, 0.052374]) \n",
    "\n",
    "delta_ln_assaults = np.dot(delta_x, coeffs)\n",
    "\n",
    "std_error = np.sqrt(np.dot(delta_x, np.dot(cov, delta_x)))\n",
    "\n",
    "lower = delta_ln_assaults - 1.96 * std_error\n",
    "upper = delta_ln_assaults + 1.96 * std_error\n",
    "\n",
    "change = (np.exp(delta_ln_assaults) - 1)\n",
    "ci_lower = (np.exp(lower) - 1)\n",
    "ci_upper = (np.exp(upper) - 1)\n",
    "\n",
    "print(f\"Predicted change in assaults: {change:.2f}\")\n",
    "print(f\"95% CI: [{ci_lower:.2f}, {ci_upper:.2f}]\")"
   ]
  },
  {
   "cell_type": "code",
   "execution_count": null,
   "id": "3190f174",
   "metadata": {},
   "outputs": [],
   "source": [
    "#d\n",
    "# INFO: Missign the second part of (d)\n",
    "\n",
    "formula  = \"lwage ~ edu + edu2 + educab + ability + exper + meduc + feduc + brokenhome + siblings\"\n",
    "\n",
    "model = smf.ols(formula=formula, data=data).fit(cov_type='HC1')\n",
    "\n",
    "print(model.summary())"
   ]
  },
  {
   "cell_type": "code",
   "execution_count": null,
   "id": "1e449ed8",
   "metadata": {},
   "outputs": [],
   "source": [
    "formula  = \"lwage ~ tao1 + tao2 + ability + exper + meduc + feduc + brokenhome + siblings\"\n",
    "\n",
    "\n",
    "model = smf.ols(formula=formula, data=data).fit()\n",
    "print(model.summary())"
   ]
  }
 ],
 "metadata": {
  "kernelspec": {
   "display_name": ".venv",
   "language": "python",
   "name": "python3"
  },
  "language_info": {
   "codemirror_mode": {
    "name": "ipython",
    "version": 3
   },
   "file_extension": ".py",
   "mimetype": "text/x-python",
   "name": "python",
   "nbconvert_exporter": "python",
   "pygments_lexer": "ipython3",
   "version": "3.10.18"
  }
 },
 "nbformat": 4,
 "nbformat_minor": 5
}
