{
 "cells": [
  {
   "cell_type": "code",
   "execution_count": null,
   "id": "cc5719e5",
   "metadata": {},
   "outputs": [],
   "source": [
    "import pandas as pd\n",
    "import matplotlib.pyplot as plt\n",
    "import statsmodels.formula.api as smf\n",
    "import statsmodels.stats.api as sms"
   ]
  },
  {
   "cell_type": "code",
   "execution_count": null,
   "id": "fab79c71",
   "metadata": {},
   "outputs": [],
   "source": [
    "df = pd.read_excel(\"data/MONEYDEM-1.xls\")\n",
    "df['year'] = df['DATE'].astype(int)\n",
    "df['quarter'] = ((df['DATE'] - df['year']) * 10).round().astype(int)\n",
    "df['date'] = df['year'].astype(str) + 'Q' + df['quarter'].astype(str)\n",
    "df['date'] = pd.PeriodIndex(df['date'], freq='Q')\n",
    "df.set_index('date', inplace=True)\n",
    "df"
   ]
  },
  {
   "cell_type": "code",
   "execution_count": null,
   "id": "69d16859",
   "metadata": {},
   "outputs": [],
   "source": [
    "#1a \n",
    "plt.figure(figsize=(8, 5))\n",
    "plt.plot(df.index.to_timestamp(), df['TB3mo'], marker='o')\n",
    "plt.title('Quarterly Data')\n",
    "plt.xlabel('Date')\n",
    "plt.ylabel('TB3mo')\n",
    "plt.grid(True)\n",
    "plt.tight_layout()\n",
    "plt.show()"
   ]
  },
  {
   "cell_type": "code",
   "execution_count": null,
   "id": "ab3496a4",
   "metadata": {},
   "outputs": [],
   "source": [
    "plt.figure(figsize=(8, 5))\n",
    "plt.plot(df.index.to_timestamp(), df['TB1yr'], marker='o')\n",
    "plt.title('Quarterly Data')\n",
    "plt.xlabel('Date')\n",
    "plt.ylabel('TB1yr')\n",
    "plt.grid(True)\n",
    "plt.tight_layout()\n",
    "plt.show()"
   ]
  },
  {
   "cell_type": "code",
   "execution_count": null,
   "id": "7e8716ef",
   "metadata": {},
   "outputs": [],
   "source": [
    "# No, they appear to have changing mean and variance given that in 1980 had a vilont spike "
   ]
  },
  {
   "cell_type": "code",
   "execution_count": null,
   "id": "3333bd2c",
   "metadata": {},
   "outputs": [],
   "source": [
    "#1b\n",
    "plt.figure(figsize=(8, 5))\n",
    "plt.plot(df.index.to_timestamp(), df['TB1yr'], marker='o')\n",
    "plt.plot(df.index.to_timestamp(), df['TB3mo'], marker='o')\n",
    "plt.title('Quarterly Data')\n",
    "plt.xlabel('Date')\n",
    "plt.grid(True)\n",
    "plt.tight_layout()\n",
    "plt.show()"
   ]
  },
  {
   "cell_type": "code",
   "execution_count": null,
   "id": "76b1c737",
   "metadata": {},
   "outputs": [],
   "source": [
    "# They apear to be practicaly identical the seam to follow the same trend"
   ]
  },
  {
   "cell_type": "code",
   "execution_count": null,
   "id": "3cad741e",
   "metadata": {},
   "outputs": [],
   "source": [
    "#1c\n",
    "model = smf.ols(\"TB1yr ~ TB3mo\", data=df).fit()\n",
    "print(model.summary())"
   ]
  },
  {
   "cell_type": "code",
   "execution_count": null,
   "id": "a9f05768",
   "metadata": {},
   "outputs": [],
   "source": [
    "#1d\n",
    "# A 1 percentage point increase in the 3-month Treasury rate (short-term) is associated with a 0.9167 percentage point increase in the 1-year Treasury rate (long-term), on average, holding other factors constant."
   ]
  },
  {
   "cell_type": "code",
   "execution_count": null,
   "id": "0ac76f99",
   "metadata": {},
   "outputs": [],
   "source": [
    "#e\n",
    "t_test_result = model.t_test('TB3mo = 1')\n",
    "print(t_test_result)"
   ]
  },
  {
   "cell_type": "code",
   "execution_count": null,
   "id": "93be40ae",
   "metadata": {},
   "outputs": [],
   "source": [
    "# since p-value is 0.000 there is strong but less-than-perfect pass-through from short- to long-term rates.\n"
   ]
  },
  {
   "cell_type": "code",
   "execution_count": null,
   "id": "968138ef",
   "metadata": {},
   "outputs": [],
   "source": [
    "#f\n",
    "residuals = model.resid\n",
    "\n",
    "# Plot residuals vs TB3mo\n",
    "plt.figure(figsize=(8, 5))\n",
    "plt.scatter(df['TB3mo'], residuals, alpha=0.7)\n",
    "plt.axhline(0, color='red', linestyle='--')\n",
    "plt.xlabel('TB3mo (3-month Treasury rate)')\n",
    "plt.ylabel('Residuals')\n",
    "plt.title('Residuals vs TB3mo')\n",
    "plt.grid(True)\n",
    "plt.show()\n"
   ]
  },
  {
   "cell_type": "code",
   "execution_count": null,
   "id": "cfad3b36",
   "metadata": {},
   "outputs": [],
   "source": [
    "# No there does not seam to be a pattern "
   ]
  },
  {
   "cell_type": "code",
   "execution_count": null,
   "id": "3201e298",
   "metadata": {},
   "outputs": [],
   "source": [
    "#g\n",
    "residuals = model.resid\n",
    "exog = model.model.exog \n",
    "\n",
    "white_test = sms.het_white(residuals, exog)\n",
    "\n",
    "lm_stat, lm_pvalue, f_stat, f_pvalue = white_test\n",
    "\n",
    "print(f\"White test LM statistic: {lm_stat:.4f}\")\n",
    "print(f\"White test LM p-value: {lm_pvalue:.4f}\")\n",
    "print(f\"White test F statistic: {f_stat:.4f}\")\n",
    "print(f\"White test F p-value: {f_pvalue:.4f}\")\n"
   ]
  },
  {
   "cell_type": "code",
   "execution_count": null,
   "id": "72886bff",
   "metadata": {},
   "outputs": [],
   "source": [
    "# given that the p-value is 0.0000 there is evidence of heteroskedasticity"
   ]
  },
  {
   "cell_type": "code",
   "execution_count": null,
   "id": "44e43d26",
   "metadata": {},
   "outputs": [],
   "source": [
    "#1h\n",
    "model_robust = smf.ols(\"TB1yr ~ TB3mo\", data=df).fit(cov_type='HC0')\n",
    "print(model_robust.summary())"
   ]
  },
  {
   "cell_type": "code",
   "execution_count": null,
   "id": "a659709b",
   "metadata": {},
   "outputs": [],
   "source": [
    "#h\n",
    "# the coefecients did not change, however the std err did increase for both the intercept \n",
    "# and the coeficient \n",
    "# When heteroskedasticity is present, regular SEs underestimate the true variability of the coefficients, so the robust SEs tend to be larger and more reliable."
   ]
  },
  {
   "cell_type": "code",
   "execution_count": null,
   "id": "20c44e88",
   "metadata": {},
   "outputs": [],
   "source": [
    "#j\n",
    "df['D'] = (df['TB3mo'] > 10.00).astype(int)\n",
    "model_with_dummy = smf.ols(\"TB1yr ~ TB3mo + D\", data=df).fit()\n",
    "\n",
    "print(model_with_dummy.summary())"
   ]
  },
  {
   "cell_type": "code",
   "execution_count": null,
   "id": "f0f3edbf",
   "metadata": {},
   "outputs": [],
   "source": [
    "# 1k\n",
    "# given that the p-value of delta is 0.004 the dummy is revelat. "
   ]
  },
  {
   "cell_type": "code",
   "execution_count": null,
   "id": "5c70d29f",
   "metadata": {},
   "outputs": [],
   "source": [
    "# 1l\n",
    "# Test the null that the dummy variable is relevant in part (j)."
   ]
  }
 ],
 "metadata": {
  "kernelspec": {
   "display_name": ".venv",
   "language": "python",
   "name": "python3"
  },
  "language_info": {
   "codemirror_mode": {
    "name": "ipython",
    "version": 3
   },
   "file_extension": ".py",
   "mimetype": "text/x-python",
   "name": "python",
   "nbconvert_exporter": "python",
   "pygments_lexer": "ipython3",
   "version": "3.10.18"
  }
 },
 "nbformat": 4,
 "nbformat_minor": 5
}
