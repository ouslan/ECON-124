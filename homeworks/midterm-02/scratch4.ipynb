{
 "cells": [
  {
   "cell_type": "code",
   "execution_count": null,
   "id": "f7af268f",
   "metadata": {},
   "outputs": [],
   "source": [
    "import polars as pl\n",
    "import numpy as np \n",
    "from scipy.optimize import curve_fit\n",
    "import matplotlib.pyplot as plt"
   ]
  },
  {
   "cell_type": "code",
   "execution_count": null,
   "id": "0f1b6fbe",
   "metadata": {},
   "outputs": [],
   "source": [
    "rng = np.random.default_rng(seed=787)\n",
    "\n",
    "df = pl.read_excel(\"data/CASchools2.xlsx\").sort(\"avginc\")\n",
    "df.columns"
   ]
  },
  {
   "cell_type": "code",
   "execution_count": null,
   "id": "15426df1",
   "metadata": {},
   "outputs": [],
   "source": [
    "def func(income,b0,b1,b2):\n",
    "    return b0 * (1 - np.exp(-b1 * (income - b2)))"
   ]
  },
  {
   "cell_type": "code",
   "execution_count": null,
   "id": "d085dd4a",
   "metadata": {},
   "outputs": [],
   "source": [
    "# Fit the model: estimate b0, b1, b2\n",
    "initial_guess = [250, 0.1, 5.0]\n",
    "params2, covariance = curve_fit(func, df[\"avginc\"], df[\"testscr\"], p0=initial_guess)"
   ]
  },
  {
   "cell_type": "code",
   "execution_count": null,
   "id": "c27ebc22",
   "metadata": {},
   "outputs": [],
   "source": [
    "plt.scatter(df[\"avginc\"], df[\"testscr\"], label=\"Observed Data\", color=\"blue\", alpha=0.6)\n",
    "plt.plot(df[\"avginc\"], func(df[\"avginc\"], *params2), label=\"Fitted Model\", color=\"red\", linewidth=2)\n",
    "plt.xlabel(\"avginc\")\n",
    "plt.ylabel(\"testscr\")\n",
    "plt.title(\"Nonlinear Fit: testscr = b0 * (1 - exp(-b1 * (avginc - b2)))\")\n",
    "plt.legend()\n",
    "plt.grid(True)\n",
    "plt.show()"
   ]
  }
 ],
 "metadata": {
  "kernelspec": {
   "display_name": ".venv",
   "language": "python",
   "name": "python3"
  },
  "language_info": {
   "codemirror_mode": {
    "name": "ipython",
    "version": 3
   },
   "file_extension": ".py",
   "mimetype": "text/x-python",
   "name": "python",
   "nbconvert_exporter": "python",
   "pygments_lexer": "ipython3",
   "version": "3.10.18"
  }
 },
 "nbformat": 4,
 "nbformat_minor": 5
}
