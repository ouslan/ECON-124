{
 "cells": [
  {
   "cell_type": "code",
   "execution_count": null,
   "id": "823f01af",
   "metadata": {},
   "outputs": [],
   "source": [
    "import pandas as pd\n",
    "from statsmodels.graphics.tsaplots import plot_acf, plot_pacf\n",
    "from statsmodels.stats.diagnostic import acorr_ljungbox\n",
    "from statsmodels.tsa.ar_model import AutoReg\n",
    "import matplotlib.pyplot as plt"
   ]
  },
  {
   "cell_type": "code",
   "execution_count": null,
   "id": "c28c68ab",
   "metadata": {},
   "outputs": [],
   "source": [
    "df = pd.read_excel(\"data/QUARTERLY-1.xls\")\n",
    "df['date'] = pd.PeriodIndex(df['Date'], freq='Q')\n",
    "df.set_index('date', inplace=True)\n",
    "# df = df[[\"CPINSA\",\"Date\"]]\n",
    "df[\"s\"] = df[\"r10\"] - df[\"Tbill\"]\n",
    "df = df[[\"s\",\"Date\"]]\n",
    "df"
   ]
  },
  {
   "cell_type": "code",
   "execution_count": null,
   "id": "4bb2101b",
   "metadata": {},
   "outputs": [],
   "source": [
    "#4a\n",
    "plt.figure(figsize=(8, 5))\n",
    "plt.plot(df.index.to_timestamp(), df['s'], marker='o')\n",
    "plt.title('Quarterly Data')\n",
    "plt.xlabel('Date')\n",
    "plt.ylabel('TB3mo')\n",
    "plt.grid(True)\n",
    "plt.tight_layout()\n",
    "plt.show()"
   ]
  },
  {
   "cell_type": "code",
   "execution_count": null,
   "id": "081197da",
   "metadata": {},
   "outputs": [],
   "source": [
    "# it looks stationary"
   ]
  },
  {
   "cell_type": "code",
   "execution_count": null,
   "id": "44d69237",
   "metadata": {},
   "outputs": [],
   "source": [
    "#4b\n",
    "fig = plot_acf(df['s'], lags=25)\n",
    "plt.show()"
   ]
  },
  {
   "cell_type": "code",
   "execution_count": null,
   "id": "1bd4719e",
   "metadata": {},
   "outputs": [],
   "source": [
    "plot_pacf(df['s'], lags=25)\n",
    "plt.show()\n"
   ]
  },
  {
   "cell_type": "code",
   "execution_count": null,
   "id": "27094b5d",
   "metadata": {},
   "outputs": [],
   "source": [
    "# it seams to be autocorrolated by 4 units and partial autocorrelated by 1"
   ]
  },
  {
   "cell_type": "code",
   "execution_count": null,
   "id": "44b3177a",
   "metadata": {},
   "outputs": [],
   "source": [
    "res_ar2 = AutoReg(df['s'].dropna(), lags =2).fit()\n",
    "print(res_ar2.summary())"
   ]
  },
  {
   "cell_type": "code",
   "execution_count": null,
   "id": "89f8903e",
   "metadata": {},
   "outputs": [],
   "source": [
    "# c\n",
    "df[\"residuals\"] = res_ar2.resid\n",
    "plt.figure(figsize=(10, 5))\n",
    "plt.plot(df.index.to_timestamp(), df[\"residuals\"], marker='o', linestyle='-')\n",
    "plt.axhline(0, color='red', linestyle='--')\n",
    "plt.title(\"Regression Residuals: log(CPINSA_t / CPINSA_{t-1}) ~ Quarterly Dummies\")\n",
    "plt.xlabel(\"Date\")\n",
    "plt.ylabel(\"Residual\")\n",
    "plt.grid(True)\n",
    "plt.tight_layout()\n",
    "plt.show()"
   ]
  },
  {
   "cell_type": "code",
   "execution_count": null,
   "id": "bcc2bfb7",
   "metadata": {},
   "outputs": [],
   "source": [
    "residuals = res_ar2.resid\n",
    "\n",
    "# Apply Ljung-Box test up to lag 20 (you can change this as needed)\n",
    "ljung_box_results = acorr_ljungbox(residuals, lags=range(1, 21), return_df=True)\n",
    "\n",
    "# Print the test statistics\n",
    "print(ljung_box_results)\n",
    "\n",
    "# Optional: Plot p-values to visualize autocorrelation\n",
    "ljung_box_results['lb_pvalue'].plot(title='Ljung-Box Test P-Values')\n",
    "plt.axhline(y=0.05, color='red', linestyle='--', label='Significance Level (0.05)')\n",
    "plt.xlabel('Lag')\n",
    "plt.ylabel('P-value')\n",
    "plt.legend()\n",
    "plt.show()"
   ]
  },
  {
   "cell_type": "code",
   "execution_count": null,
   "id": "63754454",
   "metadata": {},
   "outputs": [],
   "source": [
    "# there seem to be autocorroration for periods after 5 "
   ]
  },
  {
   "cell_type": "code",
   "execution_count": null,
   "id": "d4888f15",
   "metadata": {},
   "outputs": [],
   "source": [
    "#4e\n",
    "res_ar7 = AutoReg(df['s'].dropna(), lags =7).fit()\n",
    "print(res_ar7.summary())"
   ]
  },
  {
   "cell_type": "code",
   "execution_count": null,
   "id": "af171514",
   "metadata": {},
   "outputs": [],
   "source": [
    "residuals = res_ar7.resid\n",
    "\n",
    "# Apply Ljung-Box test up to lag 20 (you can change this as needed)\n",
    "ljung_box_results = acorr_ljungbox(residuals, lags=range(1, 21), return_df=True)\n",
    "\n",
    "# Print the test statistics\n",
    "print(ljung_box_results)\n",
    "\n",
    "# Optional: Plot p-values to visualize autocorrelation\n",
    "ljung_box_results['lb_pvalue'].plot(title='Ljung-Box Test P-Values')\n",
    "plt.axhline(y=0.05, color='red', linestyle='--', label='Significance Level (0.05)')\n",
    "plt.xlabel('Lag')\n",
    "plt.ylabel('P-value')\n",
    "plt.legend()\n",
    "plt.show()"
   ]
  },
  {
   "cell_type": "code",
   "execution_count": null,
   "id": "bc7b1dcd",
   "metadata": {},
   "outputs": [],
   "source": [
    "# there does not seem to be autoccoeration anymore"
   ]
  },
  {
   "cell_type": "code",
   "execution_count": null,
   "id": "595caee9",
   "metadata": {},
   "outputs": [],
   "source": [
    "#\n",
    "print(f\"AIC AR(2): {res_ar2.aic}\")\n",
    "print(f\"AIC AR(7): {res_ar7.aic}\")\n",
    "\n",
    "print(f\"BIC AR(2): {res_ar2.bic}\")\n",
    "print(f\"BIC AR(7): {res_ar7.bic}\")\n",
    "\n"
   ]
  },
  {
   "cell_type": "code",
   "execution_count": null,
   "id": "47ca7c27",
   "metadata": {},
   "outputs": [],
   "source": [
    "# Looking at the AIC the AR(7) seems to preferm better than AR(2)"
   ]
  },
  {
   "cell_type": "code",
   "execution_count": null,
   "id": "698b062a",
   "metadata": {},
   "outputs": [],
   "source": [
    "#h\n",
    "df2 = df.head(-10)\n",
    "df2"
   ]
  },
  {
   "cell_type": "code",
   "execution_count": null,
   "id": "04ad745b",
   "metadata": {},
   "outputs": [],
   "source": [
    "# One-step-ahead forecast for in-sample data\n",
    "\n",
    "y = df2['s'].dropna()\n",
    "\n",
    "\n",
    "forecast_ar2 = res_ar2.predict(start=res_ar2.model._hold_back, end=len(y)-1)\n",
    "\n",
    "# Forecast error\n",
    "error_ar2 = y[res_ar2.model._hold_back:] - forecast_ar2\n",
    "error_ar2"
   ]
  },
  {
   "cell_type": "code",
   "execution_count": null,
   "id": "9f4f7f63",
   "metadata": {},
   "outputs": [],
   "source": [
    "y = df2['s'].dropna()\n",
    "\n",
    "res_ar7 = AutoReg(df2['s'].dropna(), lags=7).fit()\n",
    "\n",
    "\n",
    "forecast_ar7 = res_ar7.predict(start=res_ar7.model._hold_back, end=len(y)-1)\n",
    "\n",
    "# Forecast error\n",
    "error_ar7 = y[res_ar7.model._hold_back:] - forecast_ar7\n",
    "error_ar7"
   ]
  },
  {
   "cell_type": "code",
   "execution_count": null,
   "id": "c308c067",
   "metadata": {},
   "outputs": [],
   "source": [
    "mse_ar2 = (error_ar2**2).mean()\n",
    "mse_ar7 = (error_ar7**2).mean()\n",
    "\n",
    "print(f'MSE AR(2): {mse_ar2:.4f}')\n",
    "print(f'MSE AR(7): {mse_ar7:.4f}')"
   ]
  },
  {
   "cell_type": "code",
   "execution_count": null,
   "id": "c38d4db8",
   "metadata": {},
   "outputs": [],
   "source": [
    "# The AR(7) seems to have a smaller forecst error than AR(2) "
   ]
  },
  {
   "cell_type": "code",
   "execution_count": null,
   "id": "7bb93da3",
   "metadata": {},
   "outputs": [],
   "source": [
    "#i \n",
    "forecast_ar2 = res_ar2.predict(start=len(y), end=len(y)+9)\n",
    "\n",
    "# Forecast error\n",
    "error_ar2 = df['s'].tail(10) - forecast_ar2\n",
    "error_ar2"
   ]
  },
  {
   "cell_type": "code",
   "execution_count": null,
   "id": "b9015b2c",
   "metadata": {},
   "outputs": [],
   "source": [
    "forecast_ar7 = res_ar7.predict(start=len(y), end=len(y)+9)\n",
    "\n",
    "# Forecast error\n",
    "error_ar7 = df['s'].tail(10) - forecast_ar7\n",
    "forecast_ar7"
   ]
  },
  {
   "cell_type": "code",
   "execution_count": null,
   "id": "0eec31d7",
   "metadata": {},
   "outputs": [],
   "source": [
    "mse_ar2 = (error_ar2**2).mean()\n",
    "mse_ar7 = (error_ar7**2).mean()\n",
    "\n",
    "print(f'MSE AR(2): {mse_ar2:.4f}')\n",
    "print(f'MSE AR(7): {mse_ar7:.4f}')"
   ]
  },
  {
   "cell_type": "code",
   "execution_count": null,
   "id": "67b3376b",
   "metadata": {},
   "outputs": [],
   "source": [
    "# the AR(2) seems to preferm better than the AR(7) at forcasting the 10 steps. This is supporicin ggiven that looking at the entire series the AR(7) fits better the historical data"
   ]
  }
 ],
 "metadata": {
  "kernelspec": {
   "display_name": ".venv",
   "language": "python",
   "name": "python3"
  },
  "language_info": {
   "codemirror_mode": {
    "name": "ipython",
    "version": 3
   },
   "file_extension": ".py",
   "mimetype": "text/x-python",
   "name": "python",
   "nbconvert_exporter": "python",
   "pygments_lexer": "ipython3",
   "version": "3.10.18"
  }
 },
 "nbformat": 4,
 "nbformat_minor": 5
}
