{
 "cells": [
  {
   "cell_type": "code",
   "execution_count": 2,
   "id": "b658f252",
   "metadata": {},
   "outputs": [],
   "source": [
    "import numpy as np"
   ]
  },
  {
   "cell_type": "code",
   "execution_count": 4,
   "id": "75760861",
   "metadata": {},
   "outputs": [
    {
     "name": "stdout",
     "output_type": "stream",
     "text": [
      "Beta_hat: [-0.40220662  6.12337011  5.90972919 -7.52557673]\n"
     ]
    }
   ],
   "source": [
    "XTX = np.array([\n",
    "    [100, 123,  96, 109],\n",
    "    [123, 252, 125, 189],\n",
    "    [ 96, 125, 167, 146],\n",
    "    [109, 189, 146, 168]\n",
    "])\n",
    "\n",
    "XTy = np.array([460, 810, 615, 712])\n",
    "beta_hat = np.linalg.solve(XTX, XTy)\n",
    "\n",
    "print(\"Beta_hat:\", beta_hat.T)\n"
   ]
  },
  {
   "cell_type": "code",
   "execution_count": null,
   "id": "870aab05",
   "metadata": {},
   "outputs": [],
   "source": []
  }
 ],
 "metadata": {
  "kernelspec": {
   "display_name": ".venv",
   "language": "python",
   "name": "python3"
  },
  "language_info": {
   "codemirror_mode": {
    "name": "ipython",
    "version": 3
   },
   "file_extension": ".py",
   "mimetype": "text/x-python",
   "name": "python",
   "nbconvert_exporter": "python",
   "pygments_lexer": "ipython3",
   "version": "3.10.18"
  }
 },
 "nbformat": 4,
 "nbformat_minor": 5
}
