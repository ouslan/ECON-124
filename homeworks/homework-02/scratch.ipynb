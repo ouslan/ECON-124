{
 "cells": [
  {
   "cell_type": "code",
   "execution_count": 1,
   "id": "6e8dcef0",
   "metadata": {},
   "outputs": [],
   "source": [
    "import numpy as np\n",
    "import polars as pl\n",
    "import statsmodels.api as sm"
   ]
  },
  {
   "cell_type": "markdown",
   "id": "f7a21481",
   "metadata": {},
   "source": []
  },
  {
   "cell_type": "markdown",
   "id": "49ccfaa2",
   "metadata": {},
   "source": [
    "- filter for white male hispanics\n",
    "- dummy region\n",
    "    - north \n",
    "    - south \n",
    "    - west\n",
    "- dummy marital status\n",
    "    - married\n",
    "    - windowed | divoreced \n",
    "    - seperated"
   ]
  },
  {
   "cell_type": "code",
   "execution_count": 2,
   "id": "dd5142ae",
   "metadata": {},
   "outputs": [],
   "source": [
    "df = pl.read_excel(\"data/cps09mar.xlsx\")\n",
    "df = df.filter(\n",
    "    (pl.col(\"female\") == 0) \n",
    "    & (pl.col(\"hisp\") == 1)\n",
    "    )\n",
    "df = df.with_columns(\n",
    "    north_dummy=pl.when(pl.col(\"region\") == 1).then(1).otherwise(0),\n",
    "    south_dummy=pl.when(pl.col(\"region\") == 3).then(1).otherwise(0),\n",
    "    west_dummy=pl.when(pl.col(\"region\") == 4).then(1).otherwise(0),\n",
    "    married_dummy=pl.when((pl.col(\"marital\") == 1) | (pl.col(\"marital\") == 2) | (pl.col(\"marital\") == 3)).then(1).otherwise(0),\n",
    "    widowed_dummy=pl.when((pl.col(\"marital\") == 4) ).then(1).otherwise(0),\n",
    "    seperated_dummy=pl.when((pl.col(\"marital\") == 5) | (pl.col(\"marital\") == 6)).then(1).otherwise(0),\n",
    "    wage=(pl.col(\"earnings\")/(pl.col(\"hours\") * pl.col(\"week\"))).log(),\n",
    "    exp=(pl.col(\"age\")-pl.col(\"education\")),\n",
    "    exp_2=(pl.col(\"age\")-pl.col(\"education\"))**2\n",
    "\n",
    ")"
   ]
  },
  {
   "cell_type": "code",
   "execution_count": 3,
   "id": "aea1da07",
   "metadata": {},
   "outputs": [
    {
     "data": {
      "text/plain": [
       "['age',\n",
       " 'female',\n",
       " 'hisp',\n",
       " 'education',\n",
       " 'earnings',\n",
       " 'hours',\n",
       " 'week',\n",
       " 'union',\n",
       " 'uncov',\n",
       " 'region',\n",
       " 'race',\n",
       " 'marital',\n",
       " 'north_dummy',\n",
       " 'south_dummy',\n",
       " 'west_dummy',\n",
       " 'married_dummy',\n",
       " 'widowed_dummy',\n",
       " 'seperated_dummy',\n",
       " 'wage',\n",
       " 'exp',\n",
       " 'exp_2']"
      ]
     },
     "execution_count": 3,
     "metadata": {},
     "output_type": "execute_result"
    }
   ],
   "source": [
    "df.columns"
   ]
  },
  {
   "cell_type": "code",
   "execution_count": 4,
   "id": "8ac06741",
   "metadata": {},
   "outputs": [],
   "source": [
    "data = df.to_pandas()\n",
    "Y = data[\"wage\"].values.reshape(-1,1)\n",
    "X = data[[\n",
    "    \"education\", \n",
    "    'north_dummy',\n",
    "    'south_dummy',\n",
    "    'west_dummy',\n",
    "    'married_dummy',\n",
    "    'widowed_dummy',\n",
    "    'seperated_dummy',\n",
    "    'exp',\n",
    "    'exp_2'\n",
    "    ]].values.reshape(-1,9)\n",
    "X = sm.add_constant(X)"
   ]
  },
  {
   "cell_type": "code",
   "execution_count": 5,
   "id": "b448e036",
   "metadata": {},
   "outputs": [
    {
     "data": {
      "text/plain": [
       "array([[ 1.00185354e+00],\n",
       "       [ 8.84839510e-02],\n",
       "       [ 5.74032431e-02],\n",
       "       [-7.29057168e-02],\n",
       "       [ 2.31315644e-02],\n",
       "       [ 1.68244231e-01],\n",
       "       [ 1.85317920e-01],\n",
       "       [ 5.23125163e-02],\n",
       "       [ 3.36609630e-02],\n",
       "       [-3.87349837e-04]])"
      ]
     },
     "execution_count": 5,
     "metadata": {},
     "output_type": "execute_result"
    }
   ],
   "source": [
    "np.linalg.pinv(X.T @ X) @ X.T @ Y"
   ]
  },
  {
   "cell_type": "code",
   "execution_count": 6,
   "id": "383bf9be",
   "metadata": {},
   "outputs": [
    {
     "data": {
      "text/html": [
       "<div><style>\n",
       ".dataframe > thead > tr,\n",
       ".dataframe > tbody > tr {\n",
       "  text-align: right;\n",
       "  white-space: pre-wrap;\n",
       "}\n",
       "</style>\n",
       "<small>shape: (15, 8)</small><table border=\"1\" class=\"dataframe\"><thead><tr><th>Person</th><th>Education</th><th>lwage</th><th>Experience</th><th>Ability</th><th>Mothers_Educ</th><th>Fathers_Educ</th><th>Siblings</th></tr><tr><td>i64</td><td>i64</td><td>f64</td><td>i64</td><td>f64</td><td>i64</td><td>i64</td><td>i64</td></tr></thead><tbody><tr><td>1</td><td>13</td><td>1.82</td><td>1</td><td>1.0</td><td>12</td><td>12</td><td>1</td></tr><tr><td>2</td><td>15</td><td>2.14</td><td>4</td><td>1.5</td><td>12</td><td>12</td><td>1</td></tr><tr><td>3</td><td>10</td><td>1.56</td><td>1</td><td>-0.36</td><td>12</td><td>12</td><td>1</td></tr><tr><td>4</td><td>12</td><td>1.85</td><td>1</td><td>0.26</td><td>12</td><td>10</td><td>4</td></tr><tr><td>5</td><td>15</td><td>2.41</td><td>2</td><td>0.3</td><td>12</td><td>12</td><td>1</td></tr><tr><td>&hellip;</td><td>&hellip;</td><td>&hellip;</td><td>&hellip;</td><td>&hellip;</td><td>&hellip;</td><td>&hellip;</td><td>&hellip;</td></tr><tr><td>11</td><td>12</td><td>2.44</td><td>1</td><td>1.82</td><td>16</td><td>17</td><td>2</td></tr><tr><td>12</td><td>13</td><td>2.41</td><td>4</td><td>-1.3</td><td>13</td><td>12</td><td>5</td></tr><tr><td>13</td><td>12</td><td>2.07</td><td>3</td><td>-0.63</td><td>12</td><td>12</td><td>4</td></tr><tr><td>14</td><td>12</td><td>2.2</td><td>6</td><td>-0.36</td><td>10</td><td>12</td><td>2</td></tr><tr><td>15</td><td>12</td><td>2.12</td><td>3</td><td>0.28</td><td>10</td><td>12</td><td>3</td></tr></tbody></table></div>"
      ],
      "text/plain": [
       "shape: (15, 8)\n",
       "┌────────┬───────────┬───────┬────────────┬─────────┬──────────────┬──────────────┬──────────┐\n",
       "│ Person ┆ Education ┆ lwage ┆ Experience ┆ Ability ┆ Mothers_Educ ┆ Fathers_Educ ┆ Siblings │\n",
       "│ ---    ┆ ---       ┆ ---   ┆ ---        ┆ ---     ┆ ---          ┆ ---          ┆ ---      │\n",
       "│ i64    ┆ i64       ┆ f64   ┆ i64        ┆ f64     ┆ i64          ┆ i64          ┆ i64      │\n",
       "╞════════╪═══════════╪═══════╪════════════╪═════════╪══════════════╪══════════════╪══════════╡\n",
       "│ 1      ┆ 13        ┆ 1.82  ┆ 1          ┆ 1.0     ┆ 12           ┆ 12           ┆ 1        │\n",
       "│ 2      ┆ 15        ┆ 2.14  ┆ 4          ┆ 1.5     ┆ 12           ┆ 12           ┆ 1        │\n",
       "│ 3      ┆ 10        ┆ 1.56  ┆ 1          ┆ -0.36   ┆ 12           ┆ 12           ┆ 1        │\n",
       "│ 4      ┆ 12        ┆ 1.85  ┆ 1          ┆ 0.26    ┆ 12           ┆ 10           ┆ 4        │\n",
       "│ 5      ┆ 15        ┆ 2.41  ┆ 2          ┆ 0.3     ┆ 12           ┆ 12           ┆ 1        │\n",
       "│ …      ┆ …         ┆ …     ┆ …          ┆ …       ┆ …            ┆ …            ┆ …        │\n",
       "│ 11     ┆ 12        ┆ 2.44  ┆ 1          ┆ 1.82    ┆ 16           ┆ 17           ┆ 2        │\n",
       "│ 12     ┆ 13        ┆ 2.41  ┆ 4          ┆ -1.3    ┆ 13           ┆ 12           ┆ 5        │\n",
       "│ 13     ┆ 12        ┆ 2.07  ┆ 3          ┆ -0.63   ┆ 12           ┆ 12           ┆ 4        │\n",
       "│ 14     ┆ 12        ┆ 2.2   ┆ 6          ┆ -0.36   ┆ 10           ┆ 12           ┆ 2        │\n",
       "│ 15     ┆ 12        ┆ 2.12  ┆ 3          ┆ 0.28    ┆ 10           ┆ 12           ┆ 3        │\n",
       "└────────┴───────────┴───────┴────────────┴─────────┴──────────────┴──────────────┴──────────┘"
      ]
     },
     "execution_count": 6,
     "metadata": {},
     "output_type": "execute_result"
    }
   ],
   "source": [
    "df = pl.read_excel(\"data/Koop_Tobias_subsample.xlsx\")\n",
    "df"
   ]
  },
  {
   "cell_type": "code",
   "execution_count": 7,
   "id": "891a45ac",
   "metadata": {},
   "outputs": [
    {
     "name": "stdout",
     "output_type": "stream",
     "text": [
      "R²: -0.35368978328003076\n",
      "[[ 0.14176611]\n",
      " [ 0.08210773]\n",
      " [-0.04027553]]\n",
      "Adjusted R²: -0.7228779059927666\n"
     ]
    }
   ],
   "source": [
    "data = df.to_pandas()\n",
    "Y = data[\"lwage\"].values.reshape(-1, 1)\n",
    "X_1 = data[[\"Education\", \"Experience\", \"Ability\"]].values.reshape(-1,3)\n",
    "# X_1 = sm.add_constant(X_1)\n",
    "\n",
    "n = len(Y)\n",
    "p = 3\n",
    "\n",
    "beta_1 = np.linalg.pinv(X_1.T @ X_1) @ X_1.T @ Y\n",
    "\n",
    "y_pred = X_1 @ beta_1\n",
    "\n",
    "ss_res = np.sum((Y - y_pred) ** 2)\n",
    "ss_tot = np.sum((Y - np.mean(Y)) ** 2)\n",
    "r_squared = 1 - ss_res / ss_tot\n",
    "\n",
    "r_squared_adj = 1 - ((1 - r_squared) * (n - 1)) / (n - p - 1)\n",
    "\n",
    "print(\"R²:\", r_squared)\n",
    "print(beta_1)\n",
    "print(\"Adjusted R²:\", r_squared_adj)\n"
   ]
  },
  {
   "cell_type": "code",
   "execution_count": 8,
   "id": "68a8449c",
   "metadata": {},
   "outputs": [
    {
     "name": "stdout",
     "output_type": "stream",
     "text": [
      "R²: -0.021858111562357507\n",
      "[[0.10278715]\n",
      " [0.0490232 ]\n",
      " [0.08474073]]\n",
      "Adjusted R²: -0.3005466874430005\n"
     ]
    }
   ],
   "source": [
    "data = df.to_pandas()\n",
    "Y = data[\"lwage\"].values.reshape(-1, 1)\n",
    "X_1 = data[[\"Mothers_Educ\", 'Fathers_Educ','Siblings']].values.reshape(-1,3)\n",
    "# X_1 = sm.add_constant(X_1)\n",
    "n = len(Y)\n",
    "p = 3\n",
    "\n",
    "# Fit the model\n",
    "beta_1 = np.linalg.pinv(X_1.T @ X_1) @ X_1.T @ Y\n",
    "\n",
    "# Predictions\n",
    "y_pred = X_1 @ beta_1\n",
    "\n",
    "# R²\n",
    "ss_res = np.sum((Y - y_pred) ** 2)\n",
    "ss_tot = np.sum((Y - np.mean(Y)) ** 2)\n",
    "r_squared = 1 - ss_res / ss_tot\n",
    "\n",
    "# Adjusted R²\n",
    "r_squared_adj = 1 - ((1 - r_squared) * (n - 1)) / (n - p - 1)\n",
    "\n",
    "print(\"R²:\", r_squared)\n",
    "print(beta_1)\n",
    "print(\"Adjusted R²:\", r_squared_adj)\n"
   ]
  },
  {
   "cell_type": "code",
   "execution_count": 9,
   "id": "166fed37",
   "metadata": {},
   "outputs": [
    {
     "name": "stdout",
     "output_type": "stream",
     "text": [
      "R²: 0.5159728212542856\n",
      "[[0.02729688]\n",
      " [0.10414245]\n",
      " [0.02862099]\n",
      " [0.10390239]\n",
      " [0.0017645 ]\n",
      " [0.05896747]]\n",
      "Adjusted R²: 0.15295243719499974\n"
     ]
    }
   ],
   "source": [
    "data = df.to_pandas()\n",
    "Y = data[\"lwage\"].values.reshape(-1, 1)\n",
    "X_1 = data[[\"Education\", \"Experience\", \"Ability\",\"Mothers_Educ\", 'Fathers_Educ','Siblings']].values.reshape(-1,6)\n",
    "\n",
    "n = len(Y)\n",
    "p = 6\n",
    "\n",
    "# Fit the model\n",
    "beta_1 = np.linalg.pinv(X_1.T @ X_1) @ X_1.T @ Y\n",
    "\n",
    "# Predictions\n",
    "y_pred = X_1 @ beta_1\n",
    "\n",
    "# R²\n",
    "ss_res = np.sum((Y - y_pred) ** 2)\n",
    "ss_tot = np.sum((Y - np.mean(Y)) ** 2)\n",
    "r_squared = 1 - ss_res / ss_tot\n",
    "\n",
    "# Adjusted R²\n",
    "r_squared_adj = 1 - ((1 - r_squared) * (n - 1)) / (n - p - 1)\n",
    "\n",
    "print(\"R²:\", r_squared)\n",
    "print(beta_1)\n",
    "print(\"Adjusted R²:\", r_squared_adj)\n"
   ]
  },
  {
   "cell_type": "code",
   "execution_count": 10,
   "id": "cb86e709",
   "metadata": {},
   "outputs": [
    {
     "data": {
      "text/plain": [
       "array([[-0.88905947, -1.22150878, -0.68682437],\n",
       "       [-0.11517713, -1.71475472,  0.05469225],\n",
       "       [-0.45629625,  0.04565311, -2.1323313 ],\n",
       "       [-0.60064848, -2.54894445,  1.55677955],\n",
       "       [-0.08365762, -0.66525293, -1.20618917],\n",
       "       [-0.15405967,  3.21256759, -0.07210152],\n",
       "       [-0.10444609, -1.19873093, -0.56617077],\n",
       "       [ 0.21523766,  2.20274575,  0.01120688],\n",
       "       [-0.5326941 , -1.10045385,  0.23486732],\n",
       "       [ 0.45949065, -0.52668416, -0.26775012],\n",
       "       [ 2.61487153,  3.08962704,  1.05089911],\n",
       "       [ 2.1254356 ,  0.7823519 ,  1.27764509],\n",
       "       [ 0.41883404,  0.22551886,  0.81592389],\n",
       "       [-0.85905139, -0.01348665, -0.75814046],\n",
       "       [-2.03877928, -0.56864777,  0.68749362]])"
      ]
     },
     "execution_count": 10,
     "metadata": {},
     "output_type": "execute_result"
    }
   ],
   "source": [
    "residuals = [] # c\n",
    "# df  = df.to_pandas()\n",
    "X1_vars = [\n",
    "    \"Education\", \n",
    "    'Experience',\n",
    "    'Ability',\n",
    "    ]\n",
    "X2_vars = [\n",
    "    \"Mothers_Educ\", \n",
    "    'Fathers_Educ',\n",
    "    'Siblings',\n",
    "    ]\n",
    "\n",
    "\n",
    "X1 = sm.add_constant(data[X1_vars].values.reshape(-1,3))\n",
    "\n",
    "for var in X2_vars:\n",
    "    Y = data[var].values.reshape(-1,1)\n",
    "    bata_hat = np.linalg.pinv(X1.T @ X1) @ X1.T @ Y\n",
    "    res = Y - X1 @ bata_hat\n",
    "    residuals.append(res)\n",
    "\n",
    "X2_star2 = np.column_stack(residuals)\n",
    "X2_star2\n"
   ]
  },
  {
   "cell_type": "code",
   "execution_count": 11,
   "id": "d8edd8c9",
   "metadata": {},
   "outputs": [],
   "source": [
    "import arviz as az\n",
    "import numpy as np\n",
    "import pandas as pd\n",
    "import bambi as bmb\n",
    "from sklearn.linear_model import LinearRegression"
   ]
  },
  {
   "cell_type": "code",
   "execution_count": 12,
   "id": "9c85017e",
   "metadata": {},
   "outputs": [],
   "source": [
    "RANDOM_SEED = 7876\n",
    "rng = np.random.default_rng(RANDOM_SEED)\n",
    "\n",
    "az.style.use(\"arviz-darkgrid\")"
   ]
  },
  {
   "cell_type": "code",
   "execution_count": 13,
   "id": "0854c036",
   "metadata": {},
   "outputs": [
    {
     "name": "stderr",
     "output_type": "stream",
     "text": [
      "Initializing NUTS using jitter+adapt_diag...\n",
      "Sequential sampling (1 chains in 1 job)\n",
      "NUTS: [sigma, Intercept, x]\n"
     ]
    },
    {
     "data": {
      "application/vnd.jupyter.widget-view+json": {
       "model_id": "a6b5989f311049aebe9bff5a9a1f6ce3",
       "version_major": 2,
       "version_minor": 0
      },
      "text/plain": [
       "Output()"
      ]
     },
     "metadata": {},
     "output_type": "display_data"
    },
    {
     "data": {
      "text/html": [
       "<pre style=\"white-space:pre;overflow-x:auto;line-height:normal;font-family:Menlo,'DejaVu Sans Mono',consolas,'Courier New',monospace\"></pre>\n"
      ],
      "text/plain": []
     },
     "metadata": {},
     "output_type": "display_data"
    },
    {
     "name": "stderr",
     "output_type": "stream",
     "text": [
      "Sampling 1 chain for 1_000 tune and 1_000 draw iterations (1_000 + 1_000 draws total) took 0 seconds.\n",
      "Only one chain was sampled, this makes it impossible to run some convergence checks\n",
      "Initializing NUTS using jitter+adapt_diag...\n",
      "Sequential sampling (1 chains in 1 job)\n",
      "NUTS: [sigma, Intercept, x]\n"
     ]
    },
    {
     "data": {
      "application/vnd.jupyter.widget-view+json": {
       "model_id": "900073a8c98b45b9ba63baa96e64ab91",
       "version_major": 2,
       "version_minor": 0
      },
      "text/plain": [
       "Output()"
      ]
     },
     "metadata": {},
     "output_type": "display_data"
    },
    {
     "data": {
      "text/html": [
       "<pre style=\"white-space:pre;overflow-x:auto;line-height:normal;font-family:Menlo,'DejaVu Sans Mono',consolas,'Courier New',monospace\"></pre>\n"
      ],
      "text/plain": []
     },
     "metadata": {},
     "output_type": "display_data"
    },
    {
     "name": "stderr",
     "output_type": "stream",
     "text": [
      "Sampling 1 chain for 1_000 tune and 1_000 draw iterations (1_000 + 1_000 draws total) took 0 seconds.\n",
      "Only one chain was sampled, this makes it impossible to run some convergence checks\n",
      "Initializing NUTS using jitter+adapt_diag...\n",
      "Sequential sampling (1 chains in 1 job)\n",
      "NUTS: [sigma, Intercept, x]\n"
     ]
    },
    {
     "data": {
      "application/vnd.jupyter.widget-view+json": {
       "model_id": "e6e1b20a7bb34fd195228fbfa81a0115",
       "version_major": 2,
       "version_minor": 0
      },
      "text/plain": [
       "Output()"
      ]
     },
     "metadata": {},
     "output_type": "display_data"
    },
    {
     "data": {
      "text/html": [
       "<pre style=\"white-space:pre;overflow-x:auto;line-height:normal;font-family:Menlo,'DejaVu Sans Mono',consolas,'Courier New',monospace\"></pre>\n"
      ],
      "text/plain": []
     },
     "metadata": {},
     "output_type": "display_data"
    },
    {
     "name": "stderr",
     "output_type": "stream",
     "text": [
      "Sampling 1 chain for 1_000 tune and 1_000 draw iterations (1_000 + 1_000 draws total) took 0 seconds.\n",
      "Only one chain was sampled, this makes it impossible to run some convergence checks\n"
     ]
    }
   ],
   "source": [
    "def mc_func(size,intercept,slope,SEED=787):\n",
    "    rng = np.random.default_rng(SEED)\n",
    "    x = np.linspace(0, 1, size)\n",
    "    true_regression_line = intercept + slope * x\n",
    "    y = true_regression_line + rng.normal(scale=3, size=size)\n",
    "    data = pd.DataFrame({\"x\": x, \"y\": y})\n",
    "    model = bmb.Model(\"y ~ x\", data)\n",
    "    idata = model.fit(draws=1000, chains=1)\n",
    "    return idata\n",
    "\n",
    "idata1 = mc_func(size=25, slope=2, intercept=1)\n",
    "idata2 = mc_func(size=50, slope=2, intercept=1)\n",
    "idata3 = mc_func(size=100, slope=2, intercept=1)\n",
    "\n"
   ]
  },
  {
   "cell_type": "code",
   "execution_count": 14,
   "id": "ffa20c88",
   "metadata": {},
   "outputs": [],
   "source": [
    "true_intercept = 1\n",
    "true_slope = 2\n",
    "\n",
    "def asymptotic_variance(size, intercept, slope, seed=787):\n",
    "    rng = np.random.default_rng(seed)\n",
    "    x = np.linspace(0, 1, size)\n",
    "    true_regression_line = intercept + slope * x\n",
    "    y = true_regression_line + rng.normal(scale=3, size=size)\n",
    "    data = pd.DataFrame({\"x\": x, \"y\": y})\n",
    "\n",
    "    # Fit OLS\n",
    "    model = LinearRegression().fit(data[[\"x\"]], data[\"y\"])\n",
    "    residuals = data[\"y\"] - model.predict(data[[\"x\"]])\n",
    "    sigma_sq = np.var(residuals, ddof=1)\n",
    "    x_centered = data[\"x\"] - data[\"x\"].mean()\n",
    "    var_beta1 = sigma_sq / np.sum(x_centered**2)\n",
    "    \n",
    "    return var_beta1\n",
    "\n",
    "asymp_var_25 = asymptotic_variance(25, true_intercept, true_slope)\n",
    "asymp_var_50 = asymptotic_variance(50, true_intercept, true_slope)\n",
    "asymp_var_100 = asymptotic_variance(100, true_intercept, true_slope)\n"
   ]
  },
  {
   "cell_type": "code",
   "execution_count": 15,
   "id": "76416bdf",
   "metadata": {},
   "outputs": [],
   "source": [
    "def bootstrap_slope_variance(size, intercept, slope, n_bootstrap=1000, seed=787):\n",
    "    rng = np.random.default_rng(seed)\n",
    "    x = np.linspace(0, 1, size)\n",
    "    true_regression_line = intercept + slope * x\n",
    "    y = true_regression_line + rng.normal(scale=3, size=size)\n",
    "    data = pd.DataFrame({\"x\": x, \"y\": y})\n",
    "\n",
    "    coefs = []\n",
    "    for _ in range(n_bootstrap):\n",
    "        sample = data.sample(n=size, replace=True, random_state=rng.integers(1e6))\n",
    "        model = LinearRegression().fit(sample[[\"x\"]], sample[\"y\"])\n",
    "        coefs.append(model.coef_[0])\n",
    "    \n",
    "    return np.var(coefs)\n",
    "\n",
    "boot_var_25 = bootstrap_slope_variance(25, true_intercept, true_slope)\n",
    "boot_var_50 = bootstrap_slope_variance(50, true_intercept, true_slope)\n",
    "boot_var_100 = bootstrap_slope_variance(100, true_intercept, true_slope)\n"
   ]
  },
  {
   "cell_type": "code",
   "execution_count": 16,
   "id": "d7991868",
   "metadata": {},
   "outputs": [],
   "source": [
    "# Extract posterior samples for slope coefficient\n",
    "import arviz as az\n",
    "\n",
    "posterior_slope_25 = idata1.posterior[\"x\"].values.flatten()\n",
    "posterior_slope_50 = idata2.posterior[\"x\"].values.flatten()\n",
    "posterior_slope_100 = idata3.posterior[\"x\"].values.flatten()\n",
    "\n",
    "# Calculate posterior variances\n",
    "posterior_var_25 = posterior_slope_25.var()\n",
    "posterior_var_50 = posterior_slope_50.var()\n",
    "posterior_var_100 = posterior_slope_100.var()\n"
   ]
  },
  {
   "cell_type": "code",
   "execution_count": 17,
   "id": "bbd55c08",
   "metadata": {},
   "outputs": [],
   "source": [
    "true_intercept = 1\n",
    "true_slope = 2"
   ]
  },
  {
   "cell_type": "code",
   "execution_count": 18,
   "id": "c1fab977",
   "metadata": {},
   "outputs": [
    {
     "data": {
      "text/plain": [
       "array([[<Axes: title={'center': 'x'}>]], dtype=object)"
      ]
     },
     "execution_count": 18,
     "metadata": {},
     "output_type": "execute_result"
    },
    {
     "data": {
      "image/png": "[encoded data removed]",
      "text/plain": [
       "<Figure size 720x480 with 1 Axes>"
      ]
     },
     "metadata": {},
     "output_type": "display_data"
    }
   ],
   "source": [
    "az.plot_density(\n",
    "    [idata1, idata2, idata3],\n",
    "        var_names=[\"x\"],\n",
    "    data_labels=[\"25\", \"50\", \"100\"],\n",
    "    shade=0.2,\n",
    ")\n"
   ]
  },
  {
   "cell_type": "code",
   "execution_count": 19,
   "id": "1b10a65f",
   "metadata": {},
   "outputs": [
    {
     "name": "stdout",
     "output_type": "stream",
     "text": [
      "   Sample Size  Posterior Var  Asymptotic Var  Bootstrap Var\n",
      "0           25       4.587303        4.070104       3.484380\n",
      "1           50       2.539172        2.327265       2.142014\n",
      "2          100       1.193076        1.073991       1.129780\n"
     ]
    }
   ],
   "source": [
    "df = pd.DataFrame({\n",
    "    \"Sample Size\": [25, 50, 100],\n",
    "    \"Posterior Var\": [posterior_var_25, posterior_var_50, posterior_var_100],\n",
    "    \"Asymptotic Var\": [asymp_var_25, asymp_var_50, asymp_var_100],\n",
    "    \"Bootstrap Var\": [boot_var_25, boot_var_50, boot_var_100]\n",
    "})\n",
    "\n",
    "print(df)\n"
   ]
  }
 ],
 "metadata": {
  "kernelspec": {
   "display_name": ".venv",
   "language": "python",
   "name": "python3"
  },
  "language_info": {
   "codemirror_mode": {
    "name": "ipython",
    "version": 3
   },
   "file_extension": ".py",
   "mimetype": "text/x-python",
   "name": "python",
   "nbconvert_exporter": "python",
   "pygments_lexer": "ipython3",
   "version": "3.10.18"
  }
 },
 "nbformat": 4,
 "nbformat_minor": 5
}
