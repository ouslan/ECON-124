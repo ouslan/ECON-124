{
 "cells": [
  {
   "cell_type": "code",
   "execution_count": null,
   "id": "927a63d8",
   "metadata": {},
   "outputs": [],
   "source": [
    "import pandas as pd\n",
    "import matplotlib.pyplot as plt\n",
    "from statsmodels.tsa.arima.model import ARIMA\n",
    "from statsmodels.tsa.ar_model import AutoReg\n",
    "import numpy as np\n",
    "from statsmodels.graphics.tsaplots import plot_acf, plot_pacf"
   ]
  },
  {
   "cell_type": "code",
   "execution_count": null,
   "id": "78909869",
   "metadata": {},
   "outputs": [],
   "source": [
    "df = pd.read_excel(\"data/SIM_2-1.xls\")\n",
    "df"
   ]
  },
  {
   "cell_type": "code",
   "execution_count": null,
   "id": "337c8ac4",
   "metadata": {},
   "outputs": [],
   "source": [
    "# 2a\n",
    "plt.figure(figsize=(8, 5))\n",
    "plt.plot(df[\"OBS\"], df['Y1'], marker='o')\n",
    "plt.title('Quarterly Data')\n",
    "plt.xlabel('Date')\n",
    "plt.ylabel('TB3mo')\n",
    "plt.grid(True)\n",
    "plt.tight_layout()\n",
    "plt.show()"
   ]
  },
  {
   "cell_type": "code",
   "execution_count": null,
   "id": "4d4faadf",
   "metadata": {},
   "outputs": [],
   "source": [
    "# given that the series has not broke out dwon or up and it seems to hover aroun 1 we could say that it is stationary "
   ]
  },
  {
   "cell_type": "code",
   "execution_count": null,
   "id": "445eee61",
   "metadata": {},
   "outputs": [],
   "source": [
    "#2b\n",
    "fig = plot_acf(df['Y1'], lags=10)\n",
    "plt.show()"
   ]
  },
  {
   "cell_type": "code",
   "execution_count": null,
   "id": "482352a2",
   "metadata": {},
   "outputs": [],
   "source": [
    "plot_pacf(df['Y1'], lags=15)\n",
    "plt.show()\n"
   ]
  },
  {
   "cell_type": "code",
   "execution_count": null,
   "id": "4cbd9ffa",
   "metadata": {},
   "outputs": [],
   "source": [
    "#2c\n",
    "res = AutoReg(df['Y1'], lags =1).fit()\n",
    "print(res.summary())"
   ]
  },
  {
   "cell_type": "code",
   "execution_count": null,
   "id": "fd960647",
   "metadata": {},
   "outputs": [],
   "source": [
    "y_true = res.model.endog[res.model._hold_back:]  \n",
    "y_pred = res.fittedvalues\n",
    "\n",
    "\n",
    "ssr = np.sum((y_true - y_pred) ** 2)\n",
    "\n",
    "tss = np.sum((y_true - np.mean(y_true)) ** 2)\n",
    "\n",
    "n = len(y_true)\n",
    "k = res.df_model + 1  \n",
    "\n",
    "r2 = 1 - ssr / tss\n",
    "r2_adj = 1 - (ssr / (n - k)) / (tss / (n - 1))\n",
    "\n",
    "print(\"R^2:\", round(r2, 4))\n",
    "print(\"Adjusted R^2:\", round(r2_adj, 4))"
   ]
  },
  {
   "cell_type": "code",
   "execution_count": null,
   "id": "c21eede3",
   "metadata": {},
   "outputs": [],
   "source": [
    "res = AutoReg(df['Y1'], lags=2).fit()\n",
    "print(res.summary())"
   ]
  },
  {
   "cell_type": "code",
   "execution_count": null,
   "id": "3ac2b33b",
   "metadata": {},
   "outputs": [],
   "source": [
    "y_true = res.model.endog[res.model._hold_back:]  # exclude lags\n",
    "y_pred = res.fittedvalues\n",
    "\n",
    "# SSR = Sum of Squared Residuals\n",
    "ssr = np.sum((y_true - y_pred) ** 2)\n",
    "\n",
    "# TSS = Total Sum of Squares\n",
    "tss = np.sum((y_true - np.mean(y_true)) ** 2)\n",
    "\n",
    "# R^2 and Adjusted R^2\n",
    "n = len(y_true)\n",
    "k = res.df_model + 1  # includes intercept\n",
    "\n",
    "r2 = 1 - ssr / tss\n",
    "r2_adj = 1 - (ssr / (n - k)) / (tss / (n - 1))\n",
    "\n",
    "print(\"R^2:\", round(r2, 4))\n",
    "print(\"Adjusted R^2:\", round(r2_adj, 4))"
   ]
  },
  {
   "cell_type": "code",
   "execution_count": null,
   "id": "3c733604",
   "metadata": {},
   "outputs": [],
   "source": [
    "arma_mod = ARIMA(df['Y1'], order=(1, 1, 0)).fit()\n",
    "print(arma_mod.summary())"
   ]
  },
  {
   "cell_type": "code",
   "execution_count": null,
   "id": "d0741fd4",
   "metadata": {},
   "outputs": [],
   "source": [
    "y_true = df['Y1'].diff().values\n",
    "\n",
    "# Predicted differenced values\n",
    "y_pred = arma_mod.fittedvalues\n",
    "\n",
    "# SSR and TSS\n",
    "ssr = np.sum((y_true - y_pred) ** 2)\n",
    "tss = np.sum((y_true - np.mean(y_true)) ** 2)\n",
    "\n",
    "n = len(y_true)\n",
    "k = arma_mod.df_model  # number of estimated parameters\n",
    "\n",
    "# R^2 and Adjusted R^2\n",
    "r2 = 1 - ssr / tss\n",
    "r2_adj = 1 - (ssr / (n - k)) / (tss / (n - 1))\n",
    "\n",
    "print(\"R^2:\", round(r2, 4))\n",
    "print(\"Adjusted R^2:\", round(r2_adj, 4))\n",
    "\n",
    "# Optional: also print AIC and BIC\n",
    "print(\"AIC:\", arma_mod.aic)\n",
    "print(\"BIC:\", arma_mod.bic)"
   ]
  },
  {
   "cell_type": "code",
   "execution_count": null,
   "id": "29b6e3e0",
   "metadata": {},
   "outputs": [],
   "source": [
    "arma_mod = ARIMA(df['Y1'], order=(1, 4, 0)).fit()\n",
    "print(arma_mod.summary())"
   ]
  },
  {
   "cell_type": "code",
   "execution_count": null,
   "id": "550c7fb3",
   "metadata": {},
   "outputs": [],
   "source": [
    "y_true = df['Y1'].diff().values\n",
    "\n",
    "# Predicted differenced values\n",
    "y_pred = arma_mod.fittedvalues\n",
    "\n",
    "# SSR and TSS\n",
    "ssr = np.sum((y_true - y_pred) ** 2)\n",
    "tss = np.sum((y_true - np.mean(y_true)) ** 2)\n",
    "\n",
    "n = len(y_true)\n",
    "k = arma_mod.df_model  # number of estimated parameters\n",
    "\n",
    "# R^2 and Adjusted R^2\n",
    "r2 = 1 - ssr / tss\n",
    "r2_adj = 1 - (ssr / (n - k)) / (tss / (n - 1))\n",
    "\n",
    "print(\"R^2:\", round(r2, 4))\n",
    "print(\"Adjusted R^2:\", round(r2_adj, 4))\n",
    "\n",
    "# Optional: also print AIC and BIC\n",
    "print(\"AIC:\", arma_mod.aic)\n",
    "print(\"BIC:\", arma_mod.bic)"
   ]
  },
  {
   "cell_type": "code",
   "execution_count": null,
   "id": "1677e68b",
   "metadata": {},
   "outputs": [],
   "source": [
    "arma_mod = ARIMA(df['Y1'], order=(2, 1, 0)).fit()\n",
    "print(arma_mod.summary())"
   ]
  },
  {
   "cell_type": "code",
   "execution_count": null,
   "id": "22d61876",
   "metadata": {},
   "outputs": [],
   "source": [
    "# 2d\n",
    "res = AutoReg(df['Y1'], lags=2, trend=\"n\").fit()\n",
    "print(res.summary())"
   ]
  },
  {
   "cell_type": "code",
   "execution_count": null,
   "id": "2aada85c",
   "metadata": {},
   "outputs": [],
   "source": [
    "y_true = df['Y1'].diff().values\n",
    "\n",
    "# Predicted differenced values\n",
    "y_pred = arma_mod.fittedvalues\n",
    "\n",
    "# SSR and TSS\n",
    "ssr = np.sum((y_true - y_pred) ** 2)\n",
    "tss = np.sum((y_true - np.mean(y_true)) ** 2)\n",
    "\n",
    "n = len(y_true)\n",
    "k = arma_mod.df_model  # number of estimated parameters\n",
    "\n",
    "# R^2 and Adjusted R^2\n",
    "r2 = 1 - ssr / tss\n",
    "r2_adj = 1 - (ssr / (n - k)) / (tss / (n - 1))\n",
    "\n",
    "print(\"R^2:\", round(r2, 4))\n",
    "print(\"Adjusted R^2:\", round(r2_adj, 4))\n",
    "\n",
    "# Optional: also print AIC and BIC\n",
    "print(\"AIC:\", arma_mod.aic)\n",
    "print(\"BIC:\", arma_mod.bic)"
   ]
  },
  {
   "cell_type": "code",
   "execution_count": null,
   "id": "05bd1958",
   "metadata": {},
   "outputs": [],
   "source": [
    "arma_mod = ARIMA(df['Y1'], order=(1, 1, 0), trend=\"n\").fit()\n",
    "print(arma_mod.summary())"
   ]
  },
  {
   "cell_type": "code",
   "execution_count": null,
   "id": "59a47830",
   "metadata": {},
   "outputs": [],
   "source": [
    "y_true = df['Y1'].diff().values\n",
    "\n",
    "# Predicted differenced values\n",
    "y_pred = arma_mod.fittedvalues\n",
    "\n",
    "# SSR and TSS\n",
    "ssr = np.sum((y_true - y_pred) ** 2)\n",
    "tss = np.sum((y_true - np.mean(y_true)) ** 2)\n",
    "\n",
    "n = len(y_true)\n",
    "k = arma_mod.df_model  # number of estimated parameters\n",
    "\n",
    "# R^2 and Adjusted R^2\n",
    "r2 = 1 - ssr / tss\n",
    "r2_adj = 1 - (ssr / (n - k)) / (tss / (n - 1))\n",
    "\n",
    "print(\"R^2:\", round(r2, 4))\n",
    "print(\"Adjusted R^2:\", round(r2_adj, 4))\n",
    "\n",
    "# Optional: also print AIC and BIC\n",
    "print(\"AIC:\", arma_mod.aic)\n",
    "print(\"BIC:\", arma_mod.bic)"
   ]
  },
  {
   "cell_type": "code",
   "execution_count": null,
   "id": "074afb2e",
   "metadata": {},
   "outputs": [],
   "source": [
    "#2e\n",
    "# for the part c looking at the AIC the best model is the AR(2) given that it has the smallest AIC\n",
    "# fro the part ed the best is sitll AR(2) given that it has the smallest AIC"
   ]
  },
  {
   "cell_type": "code",
   "execution_count": null,
   "id": "e6342603",
   "metadata": {},
   "outputs": [],
   "source": [
    "#f\n",
    "# yes because looking at the AIC it shouldgest that the best model is AR(2) given that the simulated model was created with AR(1) one would expect AR(1) would be the best model"
   ]
  },
  {
   "cell_type": "code",
   "execution_count": null,
   "id": "d4290e6e",
   "metadata": {},
   "outputs": [],
   "source": [
    "#g\n",
    "model_ar2 = AutoReg(df['Y1'], lags=2, old_names=False)\n",
    "res_ar2 = model_ar2.fit()\n",
    "\n",
    "# Get residuals\n",
    "residuals = res_ar2.resid\n",
    "\n",
    "# Plot ACF and PACF of residuals\n",
    "fig, ax = plt.subplots(2, 1, figsize=(10, 6))\n",
    "\n",
    "plot_acf(residuals, ax=ax[0], lags=20)\n",
    "ax[0].set_title('ACF of AR(2) Residuals')\n",
    "\n",
    "plot_pacf(residuals, ax=ax[1], lags=20, method='ywm')  # ywm = Yule-Walker Modified\n",
    "ax[1].set_title('PACF of AR(2) Residuals')\n",
    "\n",
    "plt.tight_layout()\n",
    "plt.show()"
   ]
  },
  {
   "cell_type": "code",
   "execution_count": null,
   "id": "e4ee95de",
   "metadata": {},
   "outputs": [],
   "source": [
    "# yes they look like random noice"
   ]
  }
 ],
 "metadata": {
  "kernelspec": {
   "display_name": ".venv",
   "language": "python",
   "name": "python3"
  },
  "language_info": {
   "codemirror_mode": {
    "name": "ipython",
    "version": 3
   },
   "file_extension": ".py",
   "mimetype": "text/x-python",
   "name": "python",
   "nbconvert_exporter": "python",
   "pygments_lexer": "ipython3",
   "version": "3.10.18"
  }
 },
 "nbformat": 4,
 "nbformat_minor": 5
}
