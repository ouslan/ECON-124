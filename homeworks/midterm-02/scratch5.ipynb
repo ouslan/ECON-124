{
 "cells": [
  {
   "cell_type": "code",
   "execution_count": null,
   "id": "7a73c7ac",
   "metadata": {},
   "outputs": [],
   "source": [
    "import polars as pl\n",
    "import numpy as np\n",
    "from scipy.optimize import minimize\n",
    "from scipy.stats import rv_continuous\n",
    "import matplotlib.pyplot as plt"
   ]
  },
  {
   "cell_type": "code",
   "execution_count": null,
   "id": "a57e6947",
   "metadata": {},
   "outputs": [],
   "source": [
    "df = pl.read_excel(\"data/Consumption.xlsx\").to_pandas()\n",
    "C = df['realcons'].values\n",
    "Y = df['realgdp'].values"
   ]
  },
  {
   "cell_type": "code",
   "execution_count": null,
   "id": "0c5e85a5",
   "metadata": {},
   "outputs": [],
   "source": [
    "class consumption_model(rv_continuous):\n",
    "    def __init__(self, Y, C):\n",
    "        super().__init__(name='consumption')\n",
    "        self.Y = np.asarray(Y)\n",
    "        self.C = np.asarray(C)\n",
    "        self.n = len(C)\n",
    "\n",
    "    def _loglike(self, params):\n",
    "        alpha, beta, gamma, sigma_squared = params\n",
    "        predicted_C = alpha + beta * self.Y**gamma\n",
    "        residuals = self.C - predicted_C\n",
    "        ll = (\n",
    "            -self.n / 2 * np.log(sigma_squared)\n",
    "            - np.log(2 * np.pi)\n",
    "            - (1 / (2 * sigma_squared)) * np.sum(residuals**2)\n",
    "        )\n",
    "        return -ll \n",
    "\n",
    "    def fit(self, start_params=None, bounds=None):\n",
    "        if start_params is None:\n",
    "            start_params = [50, 2, 1.2, 1] \n",
    "\n",
    "        if bounds is None:\n",
    "            bounds = [\n",
    "                (None, None),   \n",
    "                (None, None),    \n",
    "                (1e-6, None),   \n",
    "                (1e-6, None)    \n",
    "            ]\n",
    "\n",
    "        result = minimize(self._loglike, start_params, method='L-BFGS-B', bounds=bounds)\n",
    "        self.mle_result = result\n",
    "\n",
    "        if result.success:\n",
    "            self.alpha_hat, self.beta_hat, self.gamma_hat, self.sigma2_hat = result.x\n",
    "        else:\n",
    "            raise RuntimeError(\"MLE optimization failed.\")\n",
    "\n",
    "        return result.x\n",
    "\n",
    "model = consumption_model(Y, C)\n",
    "alpha_hat, beta_hat, gamma_hat, sigma2_hat = model.fit()\n",
    "\n",
    "print(f\"Estimated alpha: {alpha_hat:.4f}\")\n",
    "print(f\"Estimated beta: {beta_hat:.4f}\")\n",
    "print(f\"Estimated gamma: {gamma_hat:.4f}\")\n",
    "print(f\"Estimated sigma^2: {sigma2_hat:.4f}\")\n"
   ]
  }
 ],
 "metadata": {
  "kernelspec": {
   "display_name": ".venv",
   "language": "python",
   "name": "python3"
  },
  "language_info": {
   "codemirror_mode": {
    "name": "ipython",
    "version": 3
   },
   "file_extension": ".py",
   "mimetype": "text/x-python",
   "name": "python",
   "nbconvert_exporter": "python",
   "pygments_lexer": "ipython3",
   "version": "3.10.18"
  }
 },
 "nbformat": 4,
 "nbformat_minor": 5
}
